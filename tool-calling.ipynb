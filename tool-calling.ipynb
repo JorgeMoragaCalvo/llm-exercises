{
 "cells": [
  {
   "cell_type": "code",
   "execution_count": 1,
   "metadata": {},
   "outputs": [
    {
     "data": {
      "text/plain": [
       "True"
      ]
     },
     "execution_count": 1,
     "metadata": {},
     "output_type": "execute_result"
    }
   ],
   "source": [
    "from dotenv import load_dotenv\n",
    "load_dotenv('.env')"
   ]
  },
  {
   "cell_type": "code",
   "execution_count": 2,
   "metadata": {},
   "outputs": [],
   "source": [
    "from langchain_ollama import ChatOllama\n",
    "from langchain_core.output_parsers import StrOutputParser\n",
    "from langchain_core.runnables import RunnablePassthrough\n",
    "from langchain_core.prompts import ChatPromptTemplate\n",
    "\n",
    "llm = ChatOllama(model='llama3.2:latest', base_url='http://localhost:11434')"
   ]
  },
  {
   "cell_type": "markdown",
   "metadata": {},
   "source": [
    "### Custom Tools"
   ]
  },
  {
   "cell_type": "code",
   "execution_count": 28,
   "metadata": {},
   "outputs": [],
   "source": [
    "from langchain_core.tools import tool\n",
    "\n",
    "@tool\n",
    "def add(a, b):\n",
    "    \"\"\"\n",
    "    Suma dos enteros\n",
    "\n",
    "    Args:\n",
    "    a: Primer entero\n",
    "    b: Segundo entero\n",
    "    \"\"\"\n",
    "    return a + b\n",
    "\n",
    "@tool\n",
    "def multiply(a, b):\n",
    "    \"\"\"\n",
    "    Multiplica dos enteros\n",
    "\n",
    "    Args:\n",
    "    a: Primer entero\n",
    "    b: Segundo entero\n",
    "    \"\"\"\n",
    "    return a * b\n"
   ]
  },
  {
   "cell_type": "code",
   "execution_count": 4,
   "metadata": {},
   "outputs": [
    {
     "data": {
      "text/plain": [
       "('add',\n",
       " 'Suma dos enteros\\n\\nArgs:\\na: Primer entero\\nb: Segundo entero',\n",
       " {'a': {'title': 'A'}, 'b': {'title': 'B'}},\n",
       " <bound method BaseModel.model_json_schema of <class 'langchain_core.tools.structured.StructuredTool'>>)"
      ]
     },
     "execution_count": 4,
     "metadata": {},
     "output_type": "execute_result"
    }
   ],
   "source": [
    "add.name, add.description, add.args, add.model_json_schema"
   ]
  },
  {
   "cell_type": "code",
   "execution_count": 5,
   "metadata": {},
   "outputs": [
    {
     "data": {
      "text/plain": [
       "1184"
      ]
     },
     "execution_count": 5,
     "metadata": {},
     "output_type": "execute_result"
    }
   ],
   "source": [
    "multiply.invoke({'a': 32, 'b': 37})"
   ]
  },
  {
   "cell_type": "code",
   "execution_count": 6,
   "metadata": {},
   "outputs": [],
   "source": [
    "tools = [add, multiply]\n",
    "llm_with_tools = llm.bind_tools(tools=tools)"
   ]
  },
  {
   "cell_type": "code",
   "execution_count": 8,
   "metadata": {},
   "outputs": [
    {
     "data": {
      "text/plain": [
       "[{'name': 'multiply',\n",
       "  'args': {'a': 3, 'b': 5},\n",
       "  'id': 'ea1837de-c74d-4c8e-8a8e-0a49fee54464',\n",
       "  'type': 'tool_call'}]"
      ]
     },
     "execution_count": 8,
     "metadata": {},
     "output_type": "execute_result"
    }
   ],
   "source": [
    "question = '¿Cuál es resultado de multiplicar de 3 por 5?'\n",
    "llm_with_tools.invoke(question).tool_calls"
   ]
  },
  {
   "cell_type": "markdown",
   "metadata": {},
   "source": [
    "### Calling in-built toll\n",
    "##### DuckDuckGo Search"
   ]
  },
  {
   "cell_type": "code",
   "execution_count": 11,
   "metadata": {},
   "outputs": [
    {
     "data": {
      "text/plain": [
       "'El exlíder estudiantil, de 35 años, representa la parte de la sociedad chilena que quiere un \"cambio profundo\" y que encabezó las protestas por la igualdad de derechos en 2019. El exlíder estudiantil Gabriel Boric fue elegido este domingo (19 de diciembre) como el hombre más joven en la historia de Chile. Su victoria representa un giro ... De acuerdo a información de Trasparencia, actualmente el Presidente de la República de Chile -Gabriel Boric- tiene una renta bruta de $5.742.240. Ese monto, sin embargo, no es el más alto ... ¿Cuánto le queda a Gabriel Boric en el Gobierno? El abogado y actual presidente Gabriel Boric le queda en la presidencia actualmente un año y tres meses, ya que el mandato presidencial en Chile tiene una duración de cuatro años por lo que su término está previsto para el 11 de marzo de 2026.. En sus primeros años, Boric ha enfrentado dificultades como la baja aprobación popular y la ... S.E. el Presidente de la República, Gabriel Boric Font, se reúne con la ministra del Interior y Seguridad Pública, Carolina Tohá, y el subsecretario del Interior, Luis Cordero, para monitorear el despliegue de equipos y recursos, así como la implementación de medidas de prevención de incendios ante la alerta por altas temperaturas ... Estamos hablando de cifras que son realmente importantes. El Estado de Chile, a través de Codelco, Corfo y el Fisco, va a recibir el 70% del margen operacional que genere la nueva producción entre 2025 y 2030. Y a partir del 2031, por la misma vía, el Estado de Chile recibirá el 85% del margen operacional.'"
      ]
     },
     "execution_count": 11,
     "metadata": {},
     "output_type": "execute_result"
    }
   ],
   "source": [
    "# pip install duckduckgo-search wikipedia xmltodict tavily-python\n",
    "\n",
    "from langchain_community.tools import DuckDuckGoSearchRun\n",
    "search = DuckDuckGoSearchRun()\n",
    "search.invoke(\"¿Cuál es el nombre del actual presidente de Chile?\")"
   ]
  },
  {
   "cell_type": "markdown",
   "metadata": {},
   "source": [
    "#### Tavily Search"
   ]
  },
  {
   "cell_type": "code",
   "execution_count": 12,
   "metadata": {},
   "outputs": [
    {
     "data": {
      "text/plain": [
       "[{'url': 'https://www.bcn.cl/historiapolitica/presidentes_de_la_republica',\n",
       "  'content': '##### Manuel Blanco EncaladaPresidente de la República entre el 9 de julio de 1826 y el 9 de septiembre de 1826. ##### Jorge Montt ÁlvarezPresidente de la República entre el 26 de diciembre de 1891 y el 18 de septiembre de 1896. ##### Eduardo Frei MontalvaPresidente de la República entre el 3 de noviembre de 1964 y el 3 de noviembre de 1970. ##### Salvador Allende GossensPresidente de la República entre el 3 de noviembre de 1970 y el 11 de septiembre de 1973. ##### Patricio Aylwin AzócarPresidente de la República entre el 11 de marzo de 1990 y el 11 de marzo de 1994. ##### Eduardo Frei Ruiz-TaglePresidente de la República entre el 11 de marzo de 1994 y el 11 de marzo de 2000.'},\n",
       " {'url': 'https://x.com/gabrielboric',\n",
       "  'content': \"Presidente de la República de Chile, período 2022-2026.'La duda debe seguir a la convicción como una sombra' A. Camus.\"},\n",
       " {'url': 'https://www.instagram.com/gabrielboric/?hl=en',\n",
       "  'content': '2M Followers, 3431 Following, 4249 Posts - Gabriel Boric Font (@gabrielboric) on Instagram: \"• Presidente de la República de Chile, período 2022-2026.\"'}]"
      ]
     },
     "execution_count": 12,
     "metadata": {},
     "output_type": "execute_result"
    }
   ],
   "source": [
    "from langchain_community.tools import TavilySearchResults\n",
    "\n",
    "search = TavilySearchResults(\n",
    "    max_results = 3,\n",
    "    search_depth='advanced',\n",
    "    include_answer=True,\n",
    "    include_raw_content=True,\n",
    ")\n",
    "\n",
    "question = \"¿Cuál es el nombre del presidente de Chile?\"\n",
    "search.invoke(question)"
   ]
  },
  {
   "cell_type": "markdown",
   "metadata": {},
   "source": [
    "### Wikipedia Search"
   ]
  },
  {
   "cell_type": "code",
   "execution_count": 14,
   "metadata": {},
   "outputs": [
    {
     "name": "stdout",
     "output_type": "stream",
     "text": [
      "Page: Operations research\n",
      "Summary: Operations research (British English: operational research) (U.S. Air Force Specialty Code: Operations Analysis), often shortened to the initialism OR, is a branch of applied mathematics that deals with the development and application of analytical methods to improve management and decision-making. Although the term management science is sometimes used similarly, the two fields differ in their scope and emphasis.\n",
      "Employing techniques from other mathematical sciences, such as modeling, statistics, and optimization, operations research arrives at optimal or near-optimal solutions to decision-making problems. Because of its emphasis on practical applications, operations research has overlapped with many other disciplines, notably industrial engineering. Operations research is often concerned with determining the extreme values of some real-world objective: the maximum (of profit, performance, or yield) or minimum (of loss, risk, or cost). Originating in military efforts before World War II, its techniques have grown to concern problems in a variety of industries.\n",
      "\n",
      "Page: Behavioral operations management\n",
      "Summary: Behavioral operations management (often called behavioral operations) examines and takes into consideration human behaviours and emotions when facing complex decision problems. It relates to the behavioral aspects of the use of operations research and operations management. In particular, it focuses on understanding behavior in, with and beyond models. The general purpose is to make better use and improve the use of operations theories and practice, so that the benefits received from the potential improvements to operations approaches in practice, that arise from recent findings in behavioral sciences, are realized. Behavioral operations approaches have heavily influenced supply chain management research among others.\n",
      "\n",
      "\n",
      "\n",
      "Page: Research\n",
      "Summary: Research is creative and systematic work undertaken to increase the stock of knowledge. It involves the collection, organization, and analysis of evidence to increase understanding of a topic, characterized by a particular attentiveness to controlling sources of bias and error. These activities are characterized by accounting and controlling for biases. A research project may be an expansion of past work in the field. To test the validity of instruments, procedures, or experiments, research may replicate elements of prior projects or the project as a whole.\n",
      "The primary purposes of basic research (as opposed to applied research) are documentation, discovery, interpretation, and the research and development (R&D) of methods and systems for the advancement of human knowledge. Approaches to research depend on epistemologies, which vary considerably both within and between humanities and sciences. There are several forms of research: scientific, humanities, artistic, economic, social, business, marketing, practitioner research, life, technological, etc. The scientific study of research practices is known as meta-research.\n",
      "A researcher is a person who conducts research, especially in order to discover new information or to reach a new understanding. In order to be a social researcher or a social scientist, one should have enormous knowledge of subjects related to social science that they are specialized in. Similarly, in order to be a natural science researcher, the person should have knowledge of fields related to natural science (physics, chemistry, biology, astronomy, zoology and so on). Professional associations provide one pathway to mature in the research profession.\n"
     ]
    }
   ],
   "source": [
    "from langchain_community.tools import WikipediaQueryRun\n",
    "from langchain_community.utilities import WikipediaAPIWrapper\n",
    "\n",
    "wikipedia = WikipediaQueryRun(api_wrapper=WikipediaAPIWrapper())\n",
    "\n",
    "#query = 'what is the capital of Chile?'\n",
    "query = 'What is operations research?'\n",
    "print(wikipedia.invoke(query))"
   ]
  },
  {
   "cell_type": "code",
   "execution_count": 15,
   "metadata": {},
   "outputs": [
    {
     "data": {
      "text/plain": [
       "'No good PubMed Result was found'"
      ]
     },
     "execution_count": 15,
     "metadata": {},
     "output_type": "execute_result"
    }
   ],
   "source": [
    "from langchain_community.tools.pubmed.tool import PubmedQueryRun\n",
    "\n",
    "search_pubmed = PubmedQueryRun()\n",
    "search_pubmed.invoke(\"What is the latest research on Cancer?\")"
   ]
  },
  {
   "cell_type": "markdown",
   "metadata": {},
   "source": [
    "### Tool Calling with LLM"
   ]
  },
  {
   "cell_type": "code",
   "execution_count": 16,
   "metadata": {},
   "outputs": [],
   "source": [
    "@tool\n",
    "def wikipedia_search(query):\n",
    "    \"\"\"\n",
    "    Search wikipedia for general information\n",
    "\n",
    "    Args: \n",
    "    query: The search query\n",
    "    \"\"\"\n",
    "    wikipedia = WikipediaQueryRun(api_wrapper=WikipediaAPIWrapper())\n",
    "    response = wikipedia.invoke(query) \n",
    "    return response\n",
    "\n",
    "@tool\n",
    "def pubmed_search(query):\n",
    "    \"\"\"\n",
    "    Search pubmed for medical and life sciences queries\n",
    "\n",
    "    Args: \n",
    "    query: The search query\n",
    "    \"\"\"\n",
    "    \n",
    "    search = PubmedQueryRun()\n",
    "    response = search.invoke(query) \n",
    "    return response\n",
    "\n",
    "@tool\n",
    "def tavi_search(query):\n",
    "    \"\"\"\n",
    "    Search pubmed for realtime and lates information.\n",
    "    For example, news on IA\n",
    "\n",
    "    Args: \n",
    "    query: The search query\n",
    "    \"\"\"\n",
    "    \n",
    "    search = TavilySearchResults(\n",
    "        max_results=5,\n",
    "        search_depth=\"advance\",\n",
    "        include_answer=True,\n",
    "        include_raw_content=True\n",
    "    \n",
    "    )\n",
    "    response = search.invoke(query) \n",
    "    return response"
   ]
  },
  {
   "cell_type": "code",
   "execution_count": 17,
   "metadata": {},
   "outputs": [],
   "source": [
    "tools = [wikipedia_search, pubmed_search, tavi_search]\n",
    "\n",
    "list_of_tools = { tool.name: tool for tool in tools }\n"
   ]
  },
  {
   "cell_type": "code",
   "execution_count": 18,
   "metadata": {},
   "outputs": [
    {
     "data": {
      "text/plain": [
       "{'wikipedia_search': StructuredTool(name='wikipedia_search', description='Search wikipedia for general information\\n\\nArgs: \\nquery: The search query', args_schema=<class 'langchain_core.utils.pydantic.wikipedia_search'>, func=<function wikipedia_search at 0x000002B326D9E480>),\n",
       " 'pubmed_search': StructuredTool(name='pubmed_search', description='Search pubmed for medical and life sciences queries\\n\\nArgs: \\nquery: The search query', args_schema=<class 'langchain_core.utils.pydantic.pubmed_search'>, func=<function pubmed_search at 0x000002B320DD0CC0>),\n",
       " 'tavi_search': StructuredTool(name='tavi_search', description='Search pubmed for realtime and lates information.\\nFor example, news on IA\\n\\nArgs: \\nquery: The search query', args_schema=<class 'langchain_core.utils.pydantic.tavi_search'>, func=<function tavi_search at 0x000002B3233A72E0>)}"
      ]
     },
     "execution_count": 18,
     "metadata": {},
     "output_type": "execute_result"
    }
   ],
   "source": [
    "list_of_tools"
   ]
  },
  {
   "cell_type": "code",
   "execution_count": 19,
   "metadata": {},
   "outputs": [],
   "source": [
    "llm_with_tools = llm.bind_tools(tools=tools)"
   ]
  },
  {
   "cell_type": "code",
   "execution_count": 20,
   "metadata": {},
   "outputs": [],
   "source": [
    "query = 'What is the latest news?'\n",
    "response = llm_with_tools.invoke(query)"
   ]
  },
  {
   "cell_type": "code",
   "execution_count": 21,
   "metadata": {},
   "outputs": [
    {
     "name": "stdout",
     "output_type": "stream",
     "text": [
      "[{'name': 'tavi_search', 'args': {'query': 'latest news'}, 'id': '332af74a-9e48-4bc8-bd15-ca1c207d09b3', 'type': 'tool_call'}]\n"
     ]
    }
   ],
   "source": [
    "print(response.tool_calls)"
   ]
  },
  {
   "cell_type": "markdown",
   "metadata": {},
   "source": [
    "### Final Result with Tool Calling"
   ]
  },
  {
   "cell_type": "code",
   "execution_count": 22,
   "metadata": {},
   "outputs": [],
   "source": [
    "from langchain_core.messages import HumanMessage"
   ]
  },
  {
   "cell_type": "code",
   "execution_count": 31,
   "metadata": {},
   "outputs": [],
   "source": [
    "query = '¿What is 13 * 3?'\n",
    "messages = [HumanMessage(query)]\n",
    "tool_calls = llm_with_tools.invoke(messages).tool_calls"
   ]
  },
  {
   "cell_type": "code",
   "execution_count": 32,
   "metadata": {},
   "outputs": [
    {
     "data": {
      "text/plain": [
       "[{'name': 'wikipedia_search',\n",
       "  'args': {'query': '13 * 3'},\n",
       "  'id': '9f4d529f-3751-4ec9-a19b-d1c6af82f696',\n",
       "  'type': 'tool_call'}]"
      ]
     },
     "execution_count": 32,
     "metadata": {},
     "output_type": "execute_result"
    }
   ],
   "source": [
    "tool_calls"
   ]
  }
 ],
 "metadata": {
  "kernelspec": {
   "display_name": ".venv",
   "language": "python",
   "name": "python3"
  },
  "language_info": {
   "codemirror_mode": {
    "name": "ipython",
    "version": 3
   },
   "file_extension": ".py",
   "mimetype": "text/x-python",
   "name": "python",
   "nbconvert_exporter": "python",
   "pygments_lexer": "ipython3",
   "version": "3.12.2"
  }
 },
 "nbformat": 4,
 "nbformat_minor": 2
}
