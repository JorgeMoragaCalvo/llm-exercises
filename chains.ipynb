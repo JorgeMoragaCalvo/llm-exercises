{
 "cells": [
  {
   "cell_type": "markdown",
   "metadata": {},
   "source": [
    "## Parallel LCEL Chain"
   ]
  },
  {
   "cell_type": "code",
   "execution_count": 5,
   "metadata": {},
   "outputs": [
    {
     "data": {
      "text/plain": [
       "True"
      ]
     },
     "execution_count": 5,
     "metadata": {},
     "output_type": "execute_result"
    }
   ],
   "source": [
    "from dotenv import load_dotenv\n",
    "load_dotenv('.env')"
   ]
  },
  {
   "cell_type": "code",
   "execution_count": 6,
   "metadata": {},
   "outputs": [
    {
     "data": {
      "text/plain": [
       "'https://api.smith.langchain.com'"
      ]
     },
     "execution_count": 6,
     "metadata": {},
     "output_type": "execute_result"
    }
   ],
   "source": [
    "import os\n",
    "os.environ['LANGCHAIN_ENDPOINT']"
   ]
  },
  {
   "cell_type": "code",
   "execution_count": 7,
   "metadata": {},
   "outputs": [],
   "source": [
    "from langchain_ollama import ChatOllama\n",
    "from langchain_core.prompts import SystemMessagePromptTemplate, HumanMessagePromptTemplate, ChatPromptTemplate\n",
    "from langchain_core.output_parsers.string import StrOutputParser\n",
    "\n",
    "base_url = \"http://localhost:11434\"\n",
    "model = 'deepseek-r1:1.5b'\n",
    "\n",
    "llm = ChatOllama(\n",
    "    base_url=base_url,\n",
    "    model=model,\n",
    "    temperature=0.3\n",
    "    #num_predict=512\n",
    ")\n",
    "\n",
    "system = SystemMessagePromptTemplate.from_template('You are {school} teacher. You answer in short sentence.')\n",
    "question = HumanMessagePromptTemplate.from_template('Write a poem on {topics} in {sentences} lines.')\n",
    "\n",
    "messages = [system, question]\n",
    "template = ChatPromptTemplate(messages)\n",
    "fact_chain = template | llm | StrOutputParser()"
   ]
  },
  {
   "cell_type": "code",
   "execution_count": 8,
   "metadata": {},
   "outputs": [
    {
     "name": "stdout",
     "output_type": "stream",
     "text": [
      "<think>\n",
      "Okay, so I need to write a poem about the solar system, but it has to be just four lines long. Hmm, that's tricky because usually, poems have more than four lines. Maybe I can condense some parts or use metaphorical language.\n",
      "\n",
      "First, I should think about what elements of the solar system are important: the sun, planets orbiting around it, maybe stars in the galaxy for a bit more depth. But since it's only four lines, I need to make each line convey multiple ideas.\n",
      "\n",
      "Let me start with the sun because that's central. Maybe something like \"The sun is so bright.\" That sets the scene. Then, how does the sun affect the planets? Perhaps \"It pulls them all in.\" That shows gravity and the pull on the planets.\n",
      "\n",
      "Now, for the structure of the solar system. I can say \"And they circle around it\" to show that the planets are orbiting. But since it's four lines, maybe I need a bit more detail. Maybe something like \"With their own little orbits\" to emphasize each planet has its own path.\n",
      "\n",
      "Putting it all together: The sun is so bright, it pulls everything in, and they circle around it with their own little orbits. That should cover the main points in four lines.\n",
      "</think>\n",
      "\n",
      "The sun is so bright,  \n",
      "it pulls everything in,  \n",
      "and they circle around it with their own little orbits.\n"
     ]
    }
   ],
   "source": [
    "output = fact_chain.invoke({'school': 'PhD', 'topics':'solar system', 'sentences': 4})\n",
    "print(output)"
   ]
  },
  {
   "cell_type": "code",
   "execution_count": 9,
   "metadata": {},
   "outputs": [],
   "source": [
    "from langchain_core.runnables import RunnableParallel\n",
    "from langchain_core.runnables import chain"
   ]
  },
  {
   "cell_type": "code",
   "execution_count": null,
   "metadata": {},
   "outputs": [],
   "source": [
    "#@chain\n",
    "#def custom_chain(params):\n",
    "#    return {\n",
    "#        'fact': fact_chain.invoke(params),\n",
    "#        'poem': poem_chain.invoke(params)\n",
    "#    }\n",
    "\n",
    "#params = {'school': 'primary', 'topics': 'solar system', 'points': 2, 'sentences': 2}"
   ]
  }
 ],
 "metadata": {
  "kernelspec": {
   "display_name": ".venv",
   "language": "python",
   "name": "python3"
  },
  "language_info": {
   "codemirror_mode": {
    "name": "ipython",
    "version": 3
   },
   "file_extension": ".py",
   "mimetype": "text/x-python",
   "name": "python",
   "nbconvert_exporter": "python",
   "pygments_lexer": "ipython3",
   "version": "3.12.2"
  }
 },
 "nbformat": 4,
 "nbformat_minor": 2
}
