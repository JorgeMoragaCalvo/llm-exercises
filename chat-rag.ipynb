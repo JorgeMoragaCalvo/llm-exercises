{
 "cells": [
  {
   "cell_type": "code",
   "execution_count": 15,
   "metadata": {},
   "outputs": [
    {
     "data": {
      "text/plain": [
       "True"
      ]
     },
     "execution_count": 15,
     "metadata": {},
     "output_type": "execute_result"
    }
   ],
   "source": [
    "import os, warnings\n",
    "from dotenv import load_dotenv\n",
    "\n",
    "os.environ['KMP_DUPLICATE_LIB_OK'] = \"True\"\n",
    "warnings.filterwarnings('ignore')\n",
    "\n",
    "load_dotenv('.env')"
   ]
  },
  {
   "cell_type": "code",
   "execution_count": 16,
   "metadata": {},
   "outputs": [],
   "source": [
    "from langchain_ollama import OllamaEmbeddings\n",
    "import faiss\n",
    "from langchain_community.vectorstores import FAISS\n",
    "from langchain_community.docstore.in_memory import InMemoryDocstore"
   ]
  },
  {
   "cell_type": "code",
   "execution_count": 17,
   "metadata": {},
   "outputs": [],
   "source": [
    "embeddings = OllamaEmbeddings(model='nomic-embed-text', base_url='http://localhost:11434')\n",
    "# ver \"vector-storesipynb\" como se llega a esto:\n",
    "db_name = r'C:\\Users\\Jorge Moraga Calvo\\Desktop\\Python\\langchain\\operations_research'\n",
    "vector_store = FAISS.load_local(db_name, embeddings=embeddings, allow_dangerous_deserialization=True)\n"
   ]
  },
  {
   "cell_type": "code",
   "execution_count": 18,
   "metadata": {},
   "outputs": [],
   "source": [
    "question = \"¿Cuáles son los efectos de la investigación operativa?\"\n",
    "# Retrieval\n",
    "docs = vector_store.search(query=question, k=5, search_type='similarity')"
   ]
  },
  {
   "cell_type": "code",
   "execution_count": 19,
   "metadata": {},
   "outputs": [
    {
     "data": {
      "text/plain": [
       "[Document(id='7aa62d3b-0303-4a5e-a306-4051a13532b2', metadata={'producer': 'Adobe Acrobat 8.1', 'creator': 'Adobe Acrobat 8.1 Combine Files', 'creationdate': '2010-05-24T10:07:08-05:00', 'source': 'document_store/pdfs\\\\hillier_lieberman_proof.pdf', 'file_path': 'document_store/pdfs\\\\hillier_lieberman_proof.pdf', 'total_pages': 20, 'format': 'PDF 1.6', 'title': 'Introduccion a la investigacion de operaciones', 'author': 'Frederick S. Hillier', 'subject': '', 'keywords': '', 'moddate': '2010-07-07T13:08:58-05:00', 'trapped': '', 'page': 1}, page_content='como validación del modelo. En cierto sentido, la IO involucra la investigación científi ca creativa \\nde las propiedades fundamentales de las operaciones. Sin embargo, es más que esto. La IO se ocupa \\ntambién de la administración práctica de la organización. Por lo tanto, para tener éxito, también debe \\nproporcionar conclusiones claras que el tomador de decisiones pueda usar cuando sea necesario.\\nOtra característica de la investigación de operaciones es su amplio punto de vista. Como quedó'),\n",
       " Document(id='039a934f-6869-4f6c-b43c-300c4ac810e5', metadata={'producer': 'Adobe Acrobat 8.1', 'creator': 'Adobe Acrobat 8.1 Combine Files', 'creationdate': '2010-05-24T10:07:08-05:00', 'source': 'document_store/pdfs\\\\hillier_lieberman_proof.pdf', 'file_path': 'document_store/pdfs\\\\hillier_lieberman_proof.pdf', 'total_pages': 20, 'format': 'PDF 1.6', 'title': 'Introduccion a la investigacion de operaciones', 'author': 'Frederick S. Hillier', 'subject': '', 'keywords': '', 'moddate': '2010-07-07T13:08:58-05:00', 'trapped': '', 'page': 2}, page_content='ramifi caciones del problema dentro de la organización.\\n■1.3 EFECTO DE LA INVESTIGACIÓN DE OPERACIONES\\nLa investigación de operaciones ha tenido un efecto impresionante en el mejoramiento de la efi -\\nciencia de numerosas organizaciones de todo el mundo. En el proceso, la IO ha contribuido de \\nmanera signifi cativa al incremento de la productividad de la economía de varios países. Hoy exis-\\nten más de 30 países miembros de la International Federation of Operational Research Societies'),\n",
       " Document(id='2544f3c1-c05e-4cc4-aa45-0b8ffda01b37', metadata={'producer': 'Adobe Acrobat 8.1', 'creator': 'Adobe Acrobat 8.1 Combine Files', 'creationdate': '2010-05-24T10:07:08-05:00', 'source': 'document_store/pdfs\\\\hillier_lieberman_proof.pdf', 'file_path': 'document_store/pdfs\\\\hillier_lieberman_proof.pdf', 'total_pages': 20, 'format': 'PDF 1.6', 'title': 'Introduccion a la investigacion de operaciones', 'author': 'Frederick S. Hillier', 'subject': '', 'keywords': '', 'moddate': '2010-07-07T13:08:58-05:00', 'trapped': '', 'page': 0}, page_content='sidad de encontrar la mejor forma de resolverlos crearon el ambiente propicio para el surgimiento \\nde la investigación de operaciones, a la que también se hace referencia como IO.\\nLas raíces de la IO pueden encontrarse muchas décadas atrás,1 cuando se hicieron los primeros \\nintentos por emplear el método científi co para administrar una empresa. Sin embargo, el inicio de \\nla actividad llamada investigación de operaciones es atribuible a ciertos servicios militares que'),\n",
       " Document(id='d2553053-cdf4-4db4-9bac-be78dd4c7634', metadata={'producer': 'Adobe Acrobat 8.1', 'creator': 'Adobe Acrobat 8.1 Combine Files', 'creationdate': '2010-05-24T10:07:08-05:00', 'source': 'document_store/pdfs\\\\hillier_lieberman_proof.pdf', 'file_path': 'document_store/pdfs\\\\hillier_lieberman_proof.pdf', 'total_pages': 20, 'format': 'PDF 1.6', 'title': 'Introduccion a la investigacion de operaciones', 'author': 'Frederick S. Hillier', 'subject': '', 'keywords': '', 'moddate': '2010-07-07T13:08:58-05:00', 'trapped': '', 'page': 4}, page_content='vicio son extraordinarios. Los millones de embarques diarios \\ndeben ordenarse y ponerse en ruta de manera individual hacia \\nla ubicación general correcta (por lo general por avión) para \\ndespués ser entregados en el destino exacto (normalmente con \\nun vehículo motorizado) en un tiempo sorprendentemente \\nbreve. ¿Cómo es esto posible?\\nLa investigación de operaciones (IO) es el motor tecno-\\nlógico que impulsa a esta compañía. Desde su fundación en'),\n",
       " Document(id='b3cc029c-6c95-4b2a-bf6a-8515252eea23', metadata={'producer': 'Adobe Acrobat 8.1', 'creator': 'Adobe Acrobat 8.1 Combine Files', 'creationdate': '2010-05-24T10:07:08-05:00', 'source': 'document_store/pdfs\\\\hillier_lieberman_proof.pdf', 'file_path': 'document_store/pdfs\\\\hillier_lieberman_proof.pdf', 'total_pages': 20, 'format': 'PDF 1.6', 'title': 'Introduccion a la investigacion de operaciones', 'author': 'Frederick S. Hillier', 'subject': '', 'keywords': '', 'moddate': '2010-07-07T13:08:58-05:00', 'trapped': '', 'page': 16}, page_content='varse que existen muchas excepciones a las “reglas” prescritas en este capítulo. Por su naturaleza, \\nla investigación de operaciones requiere una gran dosis de ingenio e innovación, por lo que es \\nimposible prescribir un procedimiento estándar que los equipos de IO deban seguir siempre. En su \\nlugar, la descripción anterior debe verse como un modelo que representa, a grandes rasgos, cómo \\nllevar a cabo un estudio exitoso de investigación de operaciones.\\n■ REFERENCIAS SELECCIONADAS')]"
      ]
     },
     "execution_count": 19,
     "metadata": {},
     "output_type": "execute_result"
    }
   ],
   "source": [
    "docs # k=5 => 5 ids"
   ]
  },
  {
   "cell_type": "code",
   "execution_count": 20,
   "metadata": {},
   "outputs": [
    {
     "data": {
      "text/plain": [
       "[Document(id='7aa62d3b-0303-4a5e-a306-4051a13532b2', metadata={'producer': 'Adobe Acrobat 8.1', 'creator': 'Adobe Acrobat 8.1 Combine Files', 'creationdate': '2010-05-24T10:07:08-05:00', 'source': 'document_store/pdfs\\\\hillier_lieberman_proof.pdf', 'file_path': 'document_store/pdfs\\\\hillier_lieberman_proof.pdf', 'total_pages': 20, 'format': 'PDF 1.6', 'title': 'Introduccion a la investigacion de operaciones', 'author': 'Frederick S. Hillier', 'subject': '', 'keywords': '', 'moddate': '2010-07-07T13:08:58-05:00', 'trapped': '', 'page': 1}, page_content='como validación del modelo. En cierto sentido, la IO involucra la investigación científi ca creativa \\nde las propiedades fundamentales de las operaciones. Sin embargo, es más que esto. La IO se ocupa \\ntambién de la administración práctica de la organización. Por lo tanto, para tener éxito, también debe \\nproporcionar conclusiones claras que el tomador de decisiones pueda usar cuando sea necesario.\\nOtra característica de la investigación de operaciones es su amplio punto de vista. Como quedó'),\n",
       " Document(id='039a934f-6869-4f6c-b43c-300c4ac810e5', metadata={'producer': 'Adobe Acrobat 8.1', 'creator': 'Adobe Acrobat 8.1 Combine Files', 'creationdate': '2010-05-24T10:07:08-05:00', 'source': 'document_store/pdfs\\\\hillier_lieberman_proof.pdf', 'file_path': 'document_store/pdfs\\\\hillier_lieberman_proof.pdf', 'total_pages': 20, 'format': 'PDF 1.6', 'title': 'Introduccion a la investigacion de operaciones', 'author': 'Frederick S. Hillier', 'subject': '', 'keywords': '', 'moddate': '2010-07-07T13:08:58-05:00', 'trapped': '', 'page': 2}, page_content='ramifi caciones del problema dentro de la organización.\\n■1.3 EFECTO DE LA INVESTIGACIÓN DE OPERACIONES\\nLa investigación de operaciones ha tenido un efecto impresionante en el mejoramiento de la efi -\\nciencia de numerosas organizaciones de todo el mundo. En el proceso, la IO ha contribuido de \\nmanera signifi cativa al incremento de la productividad de la economía de varios países. Hoy exis-\\nten más de 30 países miembros de la International Federation of Operational Research Societies'),\n",
       " Document(id='2544f3c1-c05e-4cc4-aa45-0b8ffda01b37', metadata={'producer': 'Adobe Acrobat 8.1', 'creator': 'Adobe Acrobat 8.1 Combine Files', 'creationdate': '2010-05-24T10:07:08-05:00', 'source': 'document_store/pdfs\\\\hillier_lieberman_proof.pdf', 'file_path': 'document_store/pdfs\\\\hillier_lieberman_proof.pdf', 'total_pages': 20, 'format': 'PDF 1.6', 'title': 'Introduccion a la investigacion de operaciones', 'author': 'Frederick S. Hillier', 'subject': '', 'keywords': '', 'moddate': '2010-07-07T13:08:58-05:00', 'trapped': '', 'page': 0}, page_content='sidad de encontrar la mejor forma de resolverlos crearon el ambiente propicio para el surgimiento \\nde la investigación de operaciones, a la que también se hace referencia como IO.\\nLas raíces de la IO pueden encontrarse muchas décadas atrás,1 cuando se hicieron los primeros \\nintentos por emplear el método científi co para administrar una empresa. Sin embargo, el inicio de \\nla actividad llamada investigación de operaciones es atribuible a ciertos servicios militares que'),\n",
       " Document(id='d2553053-cdf4-4db4-9bac-be78dd4c7634', metadata={'producer': 'Adobe Acrobat 8.1', 'creator': 'Adobe Acrobat 8.1 Combine Files', 'creationdate': '2010-05-24T10:07:08-05:00', 'source': 'document_store/pdfs\\\\hillier_lieberman_proof.pdf', 'file_path': 'document_store/pdfs\\\\hillier_lieberman_proof.pdf', 'total_pages': 20, 'format': 'PDF 1.6', 'title': 'Introduccion a la investigacion de operaciones', 'author': 'Frederick S. Hillier', 'subject': '', 'keywords': '', 'moddate': '2010-07-07T13:08:58-05:00', 'trapped': '', 'page': 4}, page_content='vicio son extraordinarios. Los millones de embarques diarios \\ndeben ordenarse y ponerse en ruta de manera individual hacia \\nla ubicación general correcta (por lo general por avión) para \\ndespués ser entregados en el destino exacto (normalmente con \\nun vehículo motorizado) en un tiempo sorprendentemente \\nbreve. ¿Cómo es esto posible?\\nLa investigación de operaciones (IO) es el motor tecno-\\nlógico que impulsa a esta compañía. Desde su fundación en'),\n",
       " Document(id='b3cc029c-6c95-4b2a-bf6a-8515252eea23', metadata={'producer': 'Adobe Acrobat 8.1', 'creator': 'Adobe Acrobat 8.1 Combine Files', 'creationdate': '2010-05-24T10:07:08-05:00', 'source': 'document_store/pdfs\\\\hillier_lieberman_proof.pdf', 'file_path': 'document_store/pdfs\\\\hillier_lieberman_proof.pdf', 'total_pages': 20, 'format': 'PDF 1.6', 'title': 'Introduccion a la investigacion de operaciones', 'author': 'Frederick S. Hillier', 'subject': '', 'keywords': '', 'moddate': '2010-07-07T13:08:58-05:00', 'trapped': '', 'page': 16}, page_content='varse que existen muchas excepciones a las “reglas” prescritas en este capítulo. Por su naturaleza, \\nla investigación de operaciones requiere una gran dosis de ingenio e innovación, por lo que es \\nimposible prescribir un procedimiento estándar que los equipos de IO deban seguir siempre. En su \\nlugar, la descripción anterior debe verse como un modelo que representa, a grandes rasgos, cómo \\nllevar a cabo un estudio exitoso de investigación de operaciones.\\n■ REFERENCIAS SELECCIONADAS')]"
      ]
     },
     "execution_count": 20,
     "metadata": {},
     "output_type": "execute_result"
    }
   ],
   "source": [
    "retriever = vector_store.as_retriever(search_type='similarity', search_kwargs={'k':5})\n",
    "docs = retriever.invoke(question)\n",
    "docs"
   ]
  },
  {
   "cell_type": "markdown",
   "metadata": {},
   "source": [
    "### RAG Prompt Template"
   ]
  },
  {
   "cell_type": "code",
   "execution_count": 21,
   "metadata": {},
   "outputs": [],
   "source": [
    "from langchain_ollama import ChatOllama\n",
    "from langchain_core.output_parsers import StrOutputParser\n",
    "from langchain_core.runnables import RunnablePassthrough\n",
    "from langchain_core.prompts import ChatPromptTemplate\n",
    "from langchain import hub"
   ]
  },
  {
   "cell_type": "code",
   "execution_count": 22,
   "metadata": {},
   "outputs": [
    {
     "data": {
      "text/plain": [
       "ChatPromptTemplate(input_variables=['context', 'question'], input_types={}, partial_variables={}, metadata={'lc_hub_owner': 'rlm', 'lc_hub_repo': 'rag-prompt', 'lc_hub_commit_hash': '50442af133e61576e74536c6556cefe1fac147cad032f4377b60c436e6cdcb6e'}, messages=[HumanMessagePromptTemplate(prompt=PromptTemplate(input_variables=['context', 'question'], input_types={}, partial_variables={}, template=\"You are an assistant for question-answering tasks. Use the following pieces of retrieved context to answer the question. If you don't know the answer, just say that you don't know. Use three sentences maximum and keep the answer concise.\\nQuestion: {question} \\nContext: {context} \\nAnswer:\"), additional_kwargs={})])"
      ]
     },
     "execution_count": 22,
     "metadata": {},
     "output_type": "execute_result"
    }
   ],
   "source": [
    "prompt = hub.pull(\"rlm/rag-prompt\")\n",
    "prompt # es lo mismo que la casilla de abajo, solo que viene de manera automática"
   ]
  },
  {
   "cell_type": "code",
   "execution_count": 23,
   "metadata": {},
   "outputs": [],
   "source": [
    "prompt = \"\"\"\n",
    "Eres un asistente para tareas de respuesta a preguntas. \n",
    "Usa los siguientes fragmentos de contexto recuperados para responder la pregunta. \n",
    "Si no sabes la respuesta, simplemente di que no la sabes o que está fuera de tu alcance. \n",
    "Usa tres oraciones como máximo y mantén la respuesta concisa.\n",
    "Pregunta: {question}\n",
    "Contexto: {context}\n",
    "Respuesta:\"\"\"\n",
    "\n",
    "prompt = ChatPromptTemplate.from_template(prompt)\n",
    "#prompt"
   ]
  },
  {
   "cell_type": "code",
   "execution_count": 24,
   "metadata": {},
   "outputs": [],
   "source": [
    "llm = ChatOllama(model='llama3.2:latest', base_url='http://localhost:11434')\n"
   ]
  },
  {
   "cell_type": "code",
   "execution_count": 25,
   "metadata": {},
   "outputs": [],
   "source": [
    "def format_docs(docs):\n",
    "    return '\\n\\n'.join([doc.page_content for doc in docs])\n",
    "\n",
    "context = format_docs(docs)\n",
    "#print(context)"
   ]
  },
  {
   "cell_type": "code",
   "execution_count": 26,
   "metadata": {},
   "outputs": [],
   "source": [
    "rag_chain = (\n",
    "    {'context': retriever|format_docs, 'question': RunnablePassthrough()}\n",
    "    | prompt\n",
    "    | llm\n",
    "    | StrOutputParser()\n",
    ")"
   ]
  },
  {
   "cell_type": "code",
   "execution_count": 31,
   "metadata": {},
   "outputs": [],
   "source": [
    "#question = \"¿Qué es la investigación operativa?\"\n",
    "response = rag_chain.invoke(question)"
   ]
  },
  {
   "cell_type": "code",
   "execution_count": 32,
   "metadata": {},
   "outputs": [
    {
     "name": "stdout",
     "output_type": "stream",
     "text": [
      "La investigación operativa es un campo que combina la ciencia y la ingeniería para resolver problemas complejos en áreas como la administración de recursos, la producción y el manejo de cadenas de suministro. Su objetivo es encontrar soluciones óptimas para problemas de planificación, optimización y control en organizaciones. En este sentido, la investigación operativa busca proporcionar conclusiones claras y prácticas que puedan ser utilizadas por tomadores de decisiones.\n"
     ]
    }
   ],
   "source": [
    "print(response)"
   ]
  }
 ],
 "metadata": {
  "kernelspec": {
   "display_name": ".venv",
   "language": "python",
   "name": "python3"
  },
  "language_info": {
   "codemirror_mode": {
    "name": "ipython",
    "version": 3
   },
   "file_extension": ".py",
   "mimetype": "text/x-python",
   "name": "python",
   "nbconvert_exporter": "python",
   "pygments_lexer": "ipython3",
   "version": "3.12.2"
  }
 },
 "nbformat": 4,
 "nbformat_minor": 2
}
