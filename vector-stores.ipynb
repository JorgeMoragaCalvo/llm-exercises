{
 "cells": [
  {
   "cell_type": "code",
   "execution_count": 1,
   "metadata": {},
   "outputs": [
    {
     "data": {
      "text/plain": [
       "True"
      ]
     },
     "execution_count": 1,
     "metadata": {},
     "output_type": "execute_result"
    }
   ],
   "source": [
    "import os, warnings\n",
    "from dotenv import load_dotenv\n",
    "\n",
    "os.environ['KMP_DUPLICATE_LIB_OK'] = 'True'\n",
    "warnings.filterwarnings(\"ignore\")\n",
    "\n",
    "load_dotenv('.env')"
   ]
  },
  {
   "cell_type": "markdown",
   "metadata": {},
   "source": [
    "### Document Loader"
   ]
  },
  {
   "cell_type": "code",
   "execution_count": 2,
   "metadata": {},
   "outputs": [
    {
     "data": {
      "text/plain": [
       "['document_store/pdfs\\\\hillier_lieberman_proof.pdf']"
      ]
     },
     "execution_count": 2,
     "metadata": {},
     "output_type": "execute_result"
    }
   ],
   "source": [
    "from langchain_community.document_loaders import PyMuPDFLoader\n",
    "import os\n",
    "\n",
    "pdfs = []\n",
    "for root, dirs, files in os.walk('document_store/pdfs'):\n",
    "    #print (root, dirs, files)\n",
    "    for file in files:\n",
    "        if file.endswith('.pdf'):\n",
    "            pdfs.append(os.path.join(root, file))\n",
    "\n",
    "pdfs"
   ]
  },
  {
   "cell_type": "code",
   "execution_count": 3,
   "metadata": {},
   "outputs": [],
   "source": [
    "docs = []\n",
    "# Divide o los documentos por pagina.\n",
    "for pdf in pdfs:\n",
    "    loader = PyMuPDFLoader(pdf)\n",
    "    temp = loader.load()\n",
    "    docs.extend(temp)\n",
    "\n",
    "#docs"
   ]
  },
  {
   "cell_type": "markdown",
   "metadata": {},
   "source": [
    "### Document Chunking"
   ]
  },
  {
   "cell_type": "code",
   "execution_count": 4,
   "metadata": {},
   "outputs": [],
   "source": [
    "from langchain_text_splitters import RecursiveCharacterTextSplitter\n",
    "\n",
    "text_splitter = RecursiveCharacterTextSplitter(chunk_size=500, chunk_overlap=50)\n",
    "chunks = text_splitter.split_documents(docs)\n",
    "#chunks"
   ]
  },
  {
   "cell_type": "code",
   "execution_count": 5,
   "metadata": {},
   "outputs": [
    {
     "data": {
      "text/plain": [
       "101"
      ]
     },
     "execution_count": 5,
     "metadata": {},
     "output_type": "execute_result"
    }
   ],
   "source": [
    "import tiktoken\n",
    "encoding = tiktoken.encoding_for_model(\"gpt-4o-mini\")\n",
    "#encoding.encode(chunks[0].page_content)\n",
    "len(encoding.encode(chunks[0].page_content))"
   ]
  },
  {
   "cell_type": "markdown",
   "metadata": {},
   "source": [
    "### Document Vector Embedding"
   ]
  },
  {
   "cell_type": "code",
   "execution_count": 6,
   "metadata": {},
   "outputs": [],
   "source": [
    "from langchain_ollama import OllamaEmbeddings\n",
    "import faiss\n",
    "from langchain_community.vectorstores import FAISS\n",
    "from langchain_community.docstore.in_memory import InMemoryDocstore\n"
   ]
  },
  {
   "cell_type": "code",
   "execution_count": 7,
   "metadata": {},
   "outputs": [],
   "source": [
    "# ollama pull nomic-embed-text\n",
    "embeddings = OllamaEmbeddings(model='nomic-embed-text', base_url='http://localhost:11434')\n"
   ]
  },
  {
   "cell_type": "code",
   "execution_count": 8,
   "metadata": {},
   "outputs": [],
   "source": [
    "vector = embeddings.embed_query(\"Hello World\")"
   ]
  },
  {
   "cell_type": "code",
   "execution_count": 9,
   "metadata": {},
   "outputs": [
    {
     "data": {
      "text/plain": [
       "(0, 768)"
      ]
     },
     "execution_count": 9,
     "metadata": {},
     "output_type": "execute_result"
    }
   ],
   "source": [
    "index = faiss.IndexFlatL2(len(vector))\n",
    "index.ntotal, index.d"
   ]
  },
  {
   "cell_type": "code",
   "execution_count": 10,
   "metadata": {},
   "outputs": [],
   "source": [
    "vector_store = FAISS(\n",
    "    embedding_function=embeddings,\n",
    "    index=index,\n",
    "    docstore=InMemoryDocstore(), #in RAM\n",
    "    index_to_docstore_id={},\n",
    ")"
   ]
  },
  {
   "cell_type": "code",
   "execution_count": 11,
   "metadata": {},
   "outputs": [
    {
     "data": {
      "text/plain": [
       "<langchain_community.vectorstores.faiss.FAISS at 0x207b2c591c0>"
      ]
     },
     "execution_count": 11,
     "metadata": {},
     "output_type": "execute_result"
    }
   ],
   "source": [
    "vector_store"
   ]
  },
  {
   "cell_type": "code",
   "execution_count": 12,
   "metadata": {},
   "outputs": [],
   "source": [
    "# adding document(s) inside vector store\n",
    "ids = vector_store.add_documents(documents=chunks)"
   ]
  },
  {
   "cell_type": "code",
   "execution_count": 13,
   "metadata": {},
   "outputs": [
    {
     "data": {
      "text/plain": [
       "(211, 211)"
      ]
     },
     "execution_count": 13,
     "metadata": {},
     "output_type": "execute_result"
    }
   ],
   "source": [
    "len(ids), vector_store.index.ntotal"
   ]
  },
  {
   "cell_type": "code",
   "execution_count": 14,
   "metadata": {},
   "outputs": [
    {
     "data": {
      "text/plain": [
       "{0: '8d364e2a-6130-4b2a-89c3-973db0789a11',\n",
       " 1: '4e808ce3-68f1-48ee-b957-5c189c94393b',\n",
       " 2: '94e32f47-e5a8-4f5d-b1a0-1d3c4ab22fcf',\n",
       " 3: '2544f3c1-c05e-4cc4-aa45-0b8ffda01b37',\n",
       " 4: 'c3af0e84-ee24-405d-ac1c-760998d70d65',\n",
       " 5: '72f9fdf3-be5a-4d17-9705-327e87349ca7',\n",
       " 6: 'bc72fe46-27a2-43ae-b03f-afa517343332',\n",
       " 7: 'bcb61644-723e-411f-bb35-8e855ce33695',\n",
       " 8: 'ffcff323-31d0-45c3-81ae-08d91ec1c23c',\n",
       " 9: '723c9079-d4bb-4e14-8036-4f4cc44df103',\n",
       " 10: 'e8416cf3-d864-4d72-84d3-2d0bf0777325',\n",
       " 11: '65d1d199-197c-4b74-9aa9-1fe5a1b9e9bf',\n",
       " 12: 'a5456de6-f461-48fa-93bc-4ead4766ec88',\n",
       " 13: 'b579835f-0014-4758-aa2a-3e87fb5e4508',\n",
       " 14: '0f259a97-1031-49d8-8193-23eaf808f336',\n",
       " 15: '8b44485a-b1a4-4659-aa34-5f60271cc3f8',\n",
       " 16: 'f15c3a3f-bd6e-4445-8930-6625018dce03',\n",
       " 17: 'd63559e7-2843-43f2-bddf-14e858d902a1',\n",
       " 18: '7aa62d3b-0303-4a5e-a306-4051a13532b2',\n",
       " 19: '525dd8d6-453f-4a78-875b-f56a913b3bf8',\n",
       " 20: '715b15d4-d893-4c1a-a623-04f2e5fee5ee',\n",
       " 21: '46fed0fe-692f-467b-a3d4-1d4bfaa31a64',\n",
       " 22: 'd88c11a8-b1e2-489a-bedd-417b3485e8ee',\n",
       " 23: 'e2fe15a0-02f4-434d-ac31-3930363be371',\n",
       " 24: '039a934f-6869-4f6c-b43c-300c4ac810e5',\n",
       " 25: 'e8b71832-b79e-4f77-9ed0-b5add61b0999',\n",
       " 26: '61fbf68e-19b3-45f8-96e9-45898d0d2970',\n",
       " 27: '3fc29af1-9f00-40be-a2f2-ac8e22b6bcee',\n",
       " 28: '93d8db61-5069-48e2-a40e-2afae5a976ed',\n",
       " 29: '365ec0c2-7189-4771-a0f6-a49fe86e033b',\n",
       " 30: '5cab3f32-ce4b-4202-a655-b0313464c443',\n",
       " 31: '89697fd0-40fd-42f8-9144-a5fcd8a640ed',\n",
       " 32: '89a546e1-c6aa-4d6e-bb09-18bbc9cdec42',\n",
       " 33: '2e168ad0-3879-4df5-9ea6-490fafff6a32',\n",
       " 34: '2cb786f2-bd2a-4329-b35a-9779c1540478',\n",
       " 35: '4f3bdee3-f903-4c1c-87a4-2087c4247733',\n",
       " 36: '35faac43-4989-4d83-9682-0933c749ca80',\n",
       " 37: 'f5600a73-9824-4661-ab8c-3928a7ed0a11',\n",
       " 38: '5f498fd6-ed15-4d0b-89e4-b48fc414effa',\n",
       " 39: '27585b1e-0607-4d27-841c-b852c47068e4',\n",
       " 40: '7e324817-5f11-4f9b-8e4c-93e90b6113d0',\n",
       " 41: 'c9eabe27-5282-4382-9887-415cc773eec4',\n",
       " 42: '4d9ebc97-6042-4f04-be5b-e2f72b86d520',\n",
       " 43: '46ed6ae8-23db-4a1d-b06b-a73143b638cb',\n",
       " 44: 'ad80f069-2f29-44b3-8087-a72d508af7c7',\n",
       " 45: 'bb2052f6-4482-4dd8-83e0-a65fc313e41a',\n",
       " 46: '5b60a404-2ca1-4634-b88a-ba58917e0d72',\n",
       " 47: 'd2553053-cdf4-4db4-9bac-be78dd4c7634',\n",
       " 48: 'f3978827-c0bb-4ceb-ad67-0cd4e8559feb',\n",
       " 49: '59c0daac-cd29-48e7-8f8c-38be3a401e0e',\n",
       " 50: '9ca63701-58cd-4b4a-996f-56e2f7739279',\n",
       " 51: '55b991ef-cea4-494b-af7b-392884c5b137',\n",
       " 52: 'e3f87702-d74c-4f00-bb86-794eb7d4e354',\n",
       " 53: 'b3ef3d2b-df25-46a2-aa03-d479bfbfbf4d',\n",
       " 54: 'cde39093-e30e-406f-952f-3617d84adcd2',\n",
       " 55: '45006308-046f-456b-849a-2dd8cac143d0',\n",
       " 56: '571e6eb5-6bc4-4c7f-b8ce-abd8d4ea8fff',\n",
       " 57: '79565215-6003-489b-b26c-9db8d30347d4',\n",
       " 58: 'ea87952e-c439-414c-9adc-ec4104cbaff7',\n",
       " 59: '10584915-8970-4326-b379-0b3178c83fb5',\n",
       " 60: '89bbb62a-f5b1-4844-bc98-1f94afd7bd42',\n",
       " 61: 'f10ec835-7996-474d-9f13-612497c267d3',\n",
       " 62: 'ceb74285-933e-4332-8ac7-449866094bff',\n",
       " 63: '02d353d7-31f0-4c92-b936-a1e747785ed9',\n",
       " 64: 'edd9ce0a-b289-4466-a728-523b92229207',\n",
       " 65: '55f65fa1-7d18-4cfb-b4bb-eda77e382d5d',\n",
       " 66: '625dc1b1-98d1-470e-ae94-76ab94e5cdb1',\n",
       " 67: 'b08d9855-6dd3-4e52-8e9d-1f1ded599145',\n",
       " 68: '50ccf2ca-d48b-4fd1-946c-3ddbf0f38daa',\n",
       " 69: '6f5956b9-5dc3-4305-8ccd-a13b1f8500da',\n",
       " 70: '3795eabc-4b20-4535-8c03-58b50649fa80',\n",
       " 71: 'c961bc49-4872-48c7-8bfc-691eb4f42103',\n",
       " 72: '5eedc752-0c9e-4bbc-bafd-70816047c283',\n",
       " 73: '27730ece-7ab7-428e-b4dc-5e853c240935',\n",
       " 74: '015db396-361c-41dd-93c3-2ca360a38d0b',\n",
       " 75: '9025de97-92d1-42c4-889e-349d634cec5a',\n",
       " 76: '251efa42-aba2-44a9-bb9d-9fa4d0bb6f3a',\n",
       " 77: '52136a25-77b1-455a-8505-e738679e6c2c',\n",
       " 78: '5ffb2d30-cfd7-42f6-9619-e47b096e1bd8',\n",
       " 79: '5168fff7-d6a4-4a91-af86-a0dbd9bd454f',\n",
       " 80: '9fcc1fca-2ab3-4ea0-ae13-39f8ecd6efda',\n",
       " 81: '6d0b0295-0382-4151-81ee-e34941a2e08b',\n",
       " 82: '87ed362d-165f-40e4-abd4-cd8cb00dd6ee',\n",
       " 83: 'c0960911-e8bf-446a-aa73-79177cfdb12d',\n",
       " 84: '5dce17c5-45df-40e2-9f44-34b37181d2c7',\n",
       " 85: 'f9b1ea49-bab0-40d9-afdb-5da50bf8a972',\n",
       " 86: '9893d46c-6b6f-4e18-843e-781dd8f19489',\n",
       " 87: '9e37b97b-34ab-4b9b-9ffe-e0fc5e834753',\n",
       " 88: 'e431c25f-ac7a-4c03-a716-529f3f97837f',\n",
       " 89: 'efe628e5-c91f-469f-a334-7c4281b6637f',\n",
       " 90: '5588da3e-72cc-4f65-b864-80c55e6ea513',\n",
       " 91: 'f539a712-66af-429c-810b-bad55567632b',\n",
       " 92: 'ea8b646d-80d5-4a0f-bc0c-428db9bebd29',\n",
       " 93: '73cbe6b2-ed00-42a2-819b-ea9fdad431f5',\n",
       " 94: '3adfbf90-dae4-4770-ae2b-56a44d7addb0',\n",
       " 95: 'bbdb2355-446f-42d5-b203-57ac51edfa7f',\n",
       " 96: 'dae8a4d8-4b4d-40dd-82cd-8c03ed156f44',\n",
       " 97: 'c15aa8e9-520c-434f-b62a-4fa54a6dc316',\n",
       " 98: '3746894e-9bc3-4819-82d4-9d60f83bd27b',\n",
       " 99: 'd8f5c5c2-f441-4c61-bfd3-b5edc579e5bb',\n",
       " 100: '69352fe5-fab5-4593-8f15-7c9219b63f74',\n",
       " 101: 'b08bd670-75b0-4f14-8ec0-3b00f26cb265',\n",
       " 102: 'fee26352-18aa-4b8f-ae07-0b2abdd2c853',\n",
       " 103: 'df00d897-f141-4a07-b96a-6fb66ca094ce',\n",
       " 104: '6e8fe307-1571-457c-83e6-40be976f47c2',\n",
       " 105: 'a85c19ea-0acb-48b7-9e7b-420df8ec9804',\n",
       " 106: '360c8875-9a29-460e-9eb9-86f257e4f8c3',\n",
       " 107: '54d6b27f-1f07-4d17-a872-7c978d2a3d8a',\n",
       " 108: '610a5acb-b922-40f5-a06f-746ea95003d2',\n",
       " 109: 'e30096eb-46e3-4d80-9e66-5e636292ce55',\n",
       " 110: 'ee8f7168-cb8b-4721-8ba6-ecdce8c1f47a',\n",
       " 111: '850b85d4-d3d9-41f8-a26d-0d3b131b2b6f',\n",
       " 112: '07c9824e-e317-4ed5-8802-6be0990b37da',\n",
       " 113: '55cde076-57a1-4ab2-8296-c6ff684a7d9a',\n",
       " 114: '767cd886-973a-4d3b-9182-d401cf19994b',\n",
       " 115: 'd673c2f2-cd6b-48ce-9610-a2a688e6eb1d',\n",
       " 116: 'a07d83f4-532a-41fc-a1c7-78f38c0df9b2',\n",
       " 117: 'cda0fc23-cbec-4d9d-977f-75196e082efd',\n",
       " 118: '348cc82c-0370-428e-801b-b0713e8efadc',\n",
       " 119: 'bd27030a-4487-4e4b-a24d-308487518cc8',\n",
       " 120: '2fed60f1-0d5b-4034-9fa5-ca2cce4cf80c',\n",
       " 121: 'db4d1476-d3af-4730-af39-678c72daca04',\n",
       " 122: '5798cb08-42a9-4fb2-9c3f-8f719a9c85a6',\n",
       " 123: '219af227-14ea-4eed-8e9c-c7ad7b35d5eb',\n",
       " 124: '331d35da-87b2-4faf-b6d9-6c81f802445f',\n",
       " 125: 'ce97bc34-d186-4e1a-bf6c-09cb2f9d24dc',\n",
       " 126: 'faa6e6bc-d34c-403c-b80a-4824dbd9543a',\n",
       " 127: '81e7bad0-c31c-4b99-957f-fe1071aaf6ce',\n",
       " 128: '1ad3082a-85f4-404e-b77e-ce308954e61c',\n",
       " 129: '65cd11ae-793d-4c96-80b5-f85a237b7f98',\n",
       " 130: '12aa1f8d-3bee-4a42-83b0-d282d38f16f3',\n",
       " 131: 'f70c181b-b227-4005-b206-499afb2ec9d3',\n",
       " 132: '7149218b-8497-4915-a61c-6f0939b6a1db',\n",
       " 133: '6db44e3c-fbdf-4df4-81f3-bff131c1b96e',\n",
       " 134: '96de8828-dd96-4a6e-b2c2-30d143248355',\n",
       " 135: 'fefc4523-ca7f-41a7-bf20-a718f40e66e8',\n",
       " 136: '2b345eed-0916-485e-8cc1-4f26e226b7a8',\n",
       " 137: 'cf57046e-54b9-41c4-8798-cc569c7c5423',\n",
       " 138: '1965738d-fedb-47e5-8512-537ca23c2f46',\n",
       " 139: '14fb3c90-dde6-4089-ba65-5d26b8f86176',\n",
       " 140: 'b9b53097-2408-4166-a346-64747474c9e3',\n",
       " 141: '245aa0ca-d257-49bb-a3f7-48c11658bd0f',\n",
       " 142: '55cf4880-7cae-47d3-9024-0ed58ef0b3aa',\n",
       " 143: 'a2b249d6-9fe8-40a1-9e38-b18fec8bc521',\n",
       " 144: 'd0988089-30a8-4b30-8cb3-c3c829274fbf',\n",
       " 145: '5f089b8e-05b1-4e14-8ec5-4c3657c7365d',\n",
       " 146: 'd5e80293-f80c-4b0d-b7a8-c15a5c2fab47',\n",
       " 147: 'd4dfebe4-8d54-4c36-ba94-228d26f79a04',\n",
       " 148: 'cf5b16d0-8652-4e60-b7f5-b01ad57b3a42',\n",
       " 149: '4fb378af-398c-4386-b182-c0951aa9b755',\n",
       " 150: 'cb40ab87-7c27-4cab-9c52-f7410d481eb0',\n",
       " 151: 'c4eac636-ff06-47c8-bac2-9dc08ee773fb',\n",
       " 152: '1bd2c7d9-2ac6-43ac-afcd-9c56e5281a21',\n",
       " 153: 'c7597f79-3921-4c81-bc9f-8ed7ef57f822',\n",
       " 154: 'e084dba6-c463-447a-a7bc-a22311a8662c',\n",
       " 155: '48d63449-5ca3-410d-87a9-0a8a96d55a1c',\n",
       " 156: '4b8beeb0-5efd-41fd-a50c-57eb9b274a55',\n",
       " 157: 'eb00b02e-c458-4668-b996-339a47f46358',\n",
       " 158: 'd54d1327-d804-4121-8a46-963c0dbe8dba',\n",
       " 159: 'c90415ff-3e4c-4f2e-abc4-71be73961242',\n",
       " 160: '6f39e46f-d9e5-441d-9704-330f696b54d2',\n",
       " 161: 'bf15e85d-1f61-438e-8c52-029a236f7805',\n",
       " 162: 'a5860e74-dc47-4d68-bc93-19932ef8122e',\n",
       " 163: '320c8caa-c8fa-4529-a91e-960ca5206821',\n",
       " 164: 'ee3d3d9d-a073-4f4a-b4fc-b521cf90f03b',\n",
       " 165: '9f968e9a-9435-43ba-8d2c-18ff6d871f8f',\n",
       " 166: 'eb474bfc-3e38-4136-adfa-32f15604fb37',\n",
       " 167: 'd6e895a5-56e5-43ad-9e33-3291e7c5f54a',\n",
       " 168: '4ce85381-352c-4bd5-89a0-45573041edad',\n",
       " 169: 'a8587561-4fd7-46e3-ab82-08972725a591',\n",
       " 170: '59bc1a28-f03b-451b-87ed-baa0500bdc8e',\n",
       " 171: 'b900956f-616e-49dd-bb13-af55ce0a972e',\n",
       " 172: '3bb055f8-c8a2-433e-845f-7df3802d2b2f',\n",
       " 173: '3a4ee0a1-4be4-4cc9-9bf0-0cbbcc9b6622',\n",
       " 174: 'a460c13c-e4ba-48a5-a6d0-0164dce48436',\n",
       " 175: '781ba566-b96d-4ea5-918b-cd34b3bf9c98',\n",
       " 176: '6bff4842-779b-466d-a131-882d527619db',\n",
       " 177: 'b3cc029c-6c95-4b2a-bf6a-8515252eea23',\n",
       " 178: 'b339cd92-3121-4ed0-a76d-5d0f071b8f9b',\n",
       " 179: '64fbef60-e18a-489c-888d-3b2463222b99',\n",
       " 180: 'a2801ed5-3567-4986-b417-755e5c523078',\n",
       " 181: '66e227ea-0065-4c7f-89e3-0c096aca7dbb',\n",
       " 182: '9ce89bef-1b17-4ea4-acb9-234272489db5',\n",
       " 183: 'c54bc4c9-f038-4319-b952-75bb837305c4',\n",
       " 184: '6a4d49b1-c052-42de-a768-e703bcd579a3',\n",
       " 185: '2d5162df-5dba-4de3-a53d-8b3221154969',\n",
       " 186: 'd6e53889-4bcb-4229-9346-afd9e4f8c078',\n",
       " 187: '2fd50e03-3c46-466c-843b-10e6973f3868',\n",
       " 188: '41cf6186-a615-4b0e-afe6-b11b370d6d76',\n",
       " 189: '117d42ad-ff3f-4e43-b79a-ce969ce92bcb',\n",
       " 190: 'b1485416-7406-4c16-a252-7e143dc2ffd4',\n",
       " 191: '28c9a127-8b92-4fc1-995d-d8c695bee362',\n",
       " 192: '47f47471-9ada-41bb-aa33-b30283b57008',\n",
       " 193: '41fb73d6-85a2-48e8-b1bb-cad8926f41c6',\n",
       " 194: '20869205-a531-40ec-9f58-ebc81be5de2c',\n",
       " 195: '6176de71-c31d-4a8c-a60b-1c25f53e5827',\n",
       " 196: '4189b2e7-65d7-46dd-9437-be390653d150',\n",
       " 197: '03c7505e-6b28-4d76-b0b7-63dc048eaef4',\n",
       " 198: 'aa92edf9-705f-4482-8a05-9dc65247a62d',\n",
       " 199: 'fc9764c0-3ab9-45e5-bea4-880849a63296',\n",
       " 200: '24254bf0-ad14-4b5c-9f53-1d537c503390',\n",
       " 201: '8e33638d-d08b-4643-b918-d50136e80e77',\n",
       " 202: '0d83c595-4171-4e26-b022-8b1dc1a50a45',\n",
       " 203: 'b32663a4-dd98-45cc-b18a-9844d1e2cda9',\n",
       " 204: 'c299be27-d797-4f3a-8a6b-fe50da08e380',\n",
       " 205: '140795dd-9c77-4117-ad92-df346ff4d562',\n",
       " 206: '54aee16d-5fc8-4de6-911a-e29619e17d96',\n",
       " 207: '2f4e999a-304f-492d-9aa6-656593ded36c',\n",
       " 208: '62a77094-d612-4b1b-a6d8-4972fd20f1df',\n",
       " 209: '6bb13fff-a323-4371-8f9f-b2f38f6e8d0f',\n",
       " 210: '1dac148f-f097-4313-9fbe-58032491a65b'}"
      ]
     },
     "execution_count": 14,
     "metadata": {},
     "output_type": "execute_result"
    }
   ],
   "source": [
    "vector_store.index_to_docstore_id"
   ]
  },
  {
   "cell_type": "code",
   "execution_count": 15,
   "metadata": {},
   "outputs": [],
   "source": [
    "#Retrieval\n",
    "question = \"¿Cuáles son los efectos de la investigación operativa?\"\n",
    "docs = vector_store.search(query=question, k=5, search_type=\"similarity\")"
   ]
  },
  {
   "cell_type": "code",
   "execution_count": 16,
   "metadata": {},
   "outputs": [
    {
     "data": {
      "text/plain": [
       "[Document(id='7aa62d3b-0303-4a5e-a306-4051a13532b2', metadata={'producer': 'Adobe Acrobat 8.1', 'creator': 'Adobe Acrobat 8.1 Combine Files', 'creationdate': '2010-05-24T10:07:08-05:00', 'source': 'document_store/pdfs\\\\hillier_lieberman_proof.pdf', 'file_path': 'document_store/pdfs\\\\hillier_lieberman_proof.pdf', 'total_pages': 20, 'format': 'PDF 1.6', 'title': 'Introduccion a la investigacion de operaciones', 'author': 'Frederick S. Hillier', 'subject': '', 'keywords': '', 'moddate': '2010-07-07T13:08:58-05:00', 'trapped': '', 'page': 1}, page_content='como validación del modelo. En cierto sentido, la IO involucra la investigación científi ca creativa \\nde las propiedades fundamentales de las operaciones. Sin embargo, es más que esto. La IO se ocupa \\ntambién de la administración práctica de la organización. Por lo tanto, para tener éxito, también debe \\nproporcionar conclusiones claras que el tomador de decisiones pueda usar cuando sea necesario.\\nOtra característica de la investigación de operaciones es su amplio punto de vista. Como quedó'),\n",
       " Document(id='039a934f-6869-4f6c-b43c-300c4ac810e5', metadata={'producer': 'Adobe Acrobat 8.1', 'creator': 'Adobe Acrobat 8.1 Combine Files', 'creationdate': '2010-05-24T10:07:08-05:00', 'source': 'document_store/pdfs\\\\hillier_lieberman_proof.pdf', 'file_path': 'document_store/pdfs\\\\hillier_lieberman_proof.pdf', 'total_pages': 20, 'format': 'PDF 1.6', 'title': 'Introduccion a la investigacion de operaciones', 'author': 'Frederick S. Hillier', 'subject': '', 'keywords': '', 'moddate': '2010-07-07T13:08:58-05:00', 'trapped': '', 'page': 2}, page_content='ramifi caciones del problema dentro de la organización.\\n■1.3 EFECTO DE LA INVESTIGACIÓN DE OPERACIONES\\nLa investigación de operaciones ha tenido un efecto impresionante en el mejoramiento de la efi -\\nciencia de numerosas organizaciones de todo el mundo. En el proceso, la IO ha contribuido de \\nmanera signifi cativa al incremento de la productividad de la economía de varios países. Hoy exis-\\nten más de 30 países miembros de la International Federation of Operational Research Societies'),\n",
       " Document(id='2544f3c1-c05e-4cc4-aa45-0b8ffda01b37', metadata={'producer': 'Adobe Acrobat 8.1', 'creator': 'Adobe Acrobat 8.1 Combine Files', 'creationdate': '2010-05-24T10:07:08-05:00', 'source': 'document_store/pdfs\\\\hillier_lieberman_proof.pdf', 'file_path': 'document_store/pdfs\\\\hillier_lieberman_proof.pdf', 'total_pages': 20, 'format': 'PDF 1.6', 'title': 'Introduccion a la investigacion de operaciones', 'author': 'Frederick S. Hillier', 'subject': '', 'keywords': '', 'moddate': '2010-07-07T13:08:58-05:00', 'trapped': '', 'page': 0}, page_content='sidad de encontrar la mejor forma de resolverlos crearon el ambiente propicio para el surgimiento \\nde la investigación de operaciones, a la que también se hace referencia como IO.\\nLas raíces de la IO pueden encontrarse muchas décadas atrás,1 cuando se hicieron los primeros \\nintentos por emplear el método científi co para administrar una empresa. Sin embargo, el inicio de \\nla actividad llamada investigación de operaciones es atribuible a ciertos servicios militares que'),\n",
       " Document(id='d2553053-cdf4-4db4-9bac-be78dd4c7634', metadata={'producer': 'Adobe Acrobat 8.1', 'creator': 'Adobe Acrobat 8.1 Combine Files', 'creationdate': '2010-05-24T10:07:08-05:00', 'source': 'document_store/pdfs\\\\hillier_lieberman_proof.pdf', 'file_path': 'document_store/pdfs\\\\hillier_lieberman_proof.pdf', 'total_pages': 20, 'format': 'PDF 1.6', 'title': 'Introduccion a la investigacion de operaciones', 'author': 'Frederick S. Hillier', 'subject': '', 'keywords': '', 'moddate': '2010-07-07T13:08:58-05:00', 'trapped': '', 'page': 4}, page_content='vicio son extraordinarios. Los millones de embarques diarios \\ndeben ordenarse y ponerse en ruta de manera individual hacia \\nla ubicación general correcta (por lo general por avión) para \\ndespués ser entregados en el destino exacto (normalmente con \\nun vehículo motorizado) en un tiempo sorprendentemente \\nbreve. ¿Cómo es esto posible?\\nLa investigación de operaciones (IO) es el motor tecno-\\nlógico que impulsa a esta compañía. Desde su fundación en'),\n",
       " Document(id='b3cc029c-6c95-4b2a-bf6a-8515252eea23', metadata={'producer': 'Adobe Acrobat 8.1', 'creator': 'Adobe Acrobat 8.1 Combine Files', 'creationdate': '2010-05-24T10:07:08-05:00', 'source': 'document_store/pdfs\\\\hillier_lieberman_proof.pdf', 'file_path': 'document_store/pdfs\\\\hillier_lieberman_proof.pdf', 'total_pages': 20, 'format': 'PDF 1.6', 'title': 'Introduccion a la investigacion de operaciones', 'author': 'Frederick S. Hillier', 'subject': '', 'keywords': '', 'moddate': '2010-07-07T13:08:58-05:00', 'trapped': '', 'page': 16}, page_content='varse que existen muchas excepciones a las “reglas” prescritas en este capítulo. Por su naturaleza, \\nla investigación de operaciones requiere una gran dosis de ingenio e innovación, por lo que es \\nimposible prescribir un procedimiento estándar que los equipos de IO deban seguir siempre. En su \\nlugar, la descripción anterior debe verse como un modelo que representa, a grandes rasgos, cómo \\nllevar a cabo un estudio exitoso de investigación de operaciones.\\n■ REFERENCIAS SELECCIONADAS')]"
      ]
     },
     "execution_count": 16,
     "metadata": {},
     "output_type": "execute_result"
    }
   ],
   "source": [
    "docs"
   ]
  },
  {
   "cell_type": "code",
   "execution_count": 17,
   "metadata": {},
   "outputs": [],
   "source": [
    "db_name = \"operations_research\"\n",
    "vector_store.save_local(db_name)"
   ]
  }
 ],
 "metadata": {
  "kernelspec": {
   "display_name": ".venv",
   "language": "python",
   "name": "python3"
  },
  "language_info": {
   "codemirror_mode": {
    "name": "ipython",
    "version": 3
   },
   "file_extension": ".py",
   "mimetype": "text/x-python",
   "name": "python",
   "nbconvert_exporter": "python",
   "pygments_lexer": "ipython3",
   "version": "3.12.2"
  }
 },
 "nbformat": 4,
 "nbformat_minor": 2
}
