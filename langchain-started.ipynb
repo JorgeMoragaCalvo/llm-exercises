{
 "cells": [
  {
   "cell_type": "code",
   "execution_count": 1,
   "metadata": {},
   "outputs": [
    {
     "data": {
      "text/plain": [
       "True"
      ]
     },
     "execution_count": 1,
     "metadata": {},
     "output_type": "execute_result"
    }
   ],
   "source": [
    "from dotenv import load_dotenv\n",
    "\n",
    "load_dotenv('.env')"
   ]
  },
  {
   "cell_type": "code",
   "execution_count": 2,
   "metadata": {},
   "outputs": [
    {
     "data": {
      "text/plain": [
       "'https://api.smith.langchain.com'"
      ]
     },
     "execution_count": 2,
     "metadata": {},
     "output_type": "execute_result"
    }
   ],
   "source": [
    "import os\n",
    "\n",
    "os.environ['LANGCHAIN_ENDPOINT']"
   ]
  },
  {
   "cell_type": "code",
   "execution_count": 3,
   "metadata": {},
   "outputs": [],
   "source": [
    "from langchain_ollama import ChatOllama\n",
    "\n",
    "base_url = \"hhtp://localhost:11434\"\n",
    "model = 'deepseek-r1:1.5b'\n",
    "\n",
    "llm = ChatOllama(\n",
    "    base_url=base_url,\n",
    "    model=model,\n",
    "    temperature=0.3,\n",
    "    num_predict=512\n",
    ")"
   ]
  },
  {
   "cell_type": "code",
   "execution_count": 9,
   "metadata": {},
   "outputs": [
    {
     "name": "stdout",
     "output_type": "stream",
     "text": [
      "<think>\n",
      "Okay, so I need to come up with a joke that's related to programmers. Hmm, where do I start? Well, programmers are all about code and algorithms, right? So maybe something that involves numbers or logic.\n",
      "\n",
      "Let me think about common programming puns or jokes. Oh, wait! There's this one about binary. Binary is base 2, so maybe something with bits. But the user mentioned a joke about programmers, not necessarily binary. Maybe I can mix both.\n",
      "\n",
      "Wait, another idea: \"Why did the programmer go to the store?\" Because he bought a shirt that cost him nothing but was priced at $100.\" That's a classic one and relates to pricing or discounts, which is a programming concept in terms of efficiency or optimization.\n",
      "\n",
      "But maybe I should think about something more specific. How about something like \"Why did the programmer go to the store?\" Because he bought a shirt that cost him nothing but was priced at $100.\" Wait, that's the same as before. Maybe I can tweak it a bit.\n",
      "\n",
      "Alternatively, thinking about the difference between a programmer and a hardware guy. But that might not be a joke. Or maybe something like \"Why did the programmer go to the store?\" Because he bought a\n"
     ]
    }
   ],
   "source": [
    "# llm.invoke('hi')\n",
    "\n",
    "reponse = llm.invoke('tell me a joke about programmers')\n",
    "print(reponse.content)"
   ]
  }
 ],
 "metadata": {
  "kernelspec": {
   "display_name": ".venv",
   "language": "python",
   "name": "python3"
  },
  "language_info": {
   "codemirror_mode": {
    "name": "ipython",
    "version": 3
   },
   "file_extension": ".py",
   "mimetype": "text/x-python",
   "name": "python",
   "nbconvert_exporter": "python",
   "pygments_lexer": "ipython3",
   "version": "3.12.2"
  }
 },
 "nbformat": 4,
 "nbformat_minor": 2
}
