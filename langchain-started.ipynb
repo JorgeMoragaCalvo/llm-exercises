{
 "cells": [
  {
   "cell_type": "code",
   "execution_count": 1,
   "metadata": {},
   "outputs": [
    {
     "data": {
      "text/plain": [
       "True"
      ]
     },
     "execution_count": 1,
     "metadata": {},
     "output_type": "execute_result"
    }
   ],
   "source": [
    "from dotenv import load_dotenv\n",
    "\n",
    "load_dotenv('.env')"
   ]
  },
  {
   "cell_type": "code",
   "execution_count": 2,
   "metadata": {},
   "outputs": [
    {
     "data": {
      "text/plain": [
       "'https://api.smith.langchain.com'"
      ]
     },
     "execution_count": 2,
     "metadata": {},
     "output_type": "execute_result"
    }
   ],
   "source": [
    "import os\n",
    "\n",
    "os.environ['LANGCHAIN_ENDPOINT']"
   ]
  },
  {
   "cell_type": "code",
   "execution_count": 10,
   "metadata": {},
   "outputs": [],
   "source": [
    "from langchain_ollama import ChatOllama\n",
    "\n",
    "base_url = \"http://localhost:11434\"\n",
    "model = 'deepseek-r1:1.5b'\n",
    "\n",
    "llm = ChatOllama(\n",
    "    base_url=base_url,\n",
    "    model=model,\n",
    "    temperature=0.3\n",
    "    #num_predict=512\n",
    ")"
   ]
  },
  {
   "cell_type": "code",
   "execution_count": 11,
   "metadata": {},
   "outputs": [
    {
     "name": "stdout",
     "output_type": "stream",
     "text": [
      "<think>\n",
      "Okay, so I need to tell someone about Earth in three points. Hmm, where do I start? Well, Earth is a big planet, right? So maybe the first point should be that it's the largest object in our solar system. That makes sense because it's so massive compared to other planets.\n",
      "\n",
      "Next, I think about its composition. I remember hearing that Earth is mostly made up of rock and metal. Maybe I can say something like it has a crust, mantle, and core. The core being liquid iron or something? Yeah, that sounds right. And the crust is broken into plates that move, causing earthquakes and volcanic eruptions.\n",
      "\n",
      "Wait, but what about its atmosphere? Oh yeah, Earth's atmosphere is made up of gases like nitrogen, oxygen, argon, etc. I should mention that it's a mix of these gases to keep things from getting too hot or cold.\n",
      "\n",
      "And then the third point... maybe something about its history. Like how it formed over time and how life began on it. That would give more context about Earth as a planet with a rich history. So putting it all together, I can structure each point clearly.\n",
      "</think>\n",
      "\n",
      "Certainly! Here's an organized presentation of Earth in three clear points:\n",
      "\n",
      "1. **Largest Object in the Solar System**: Earth is the largest planet in our solar system by volume.\n",
      "\n",
      "2. **Composition and Structure**: Earth is composed primarily of rock and metal, including a crust, mantle, and core. The core is liquid iron, while the crust consists of tectonic plates that move, leading to earthquakes and volcanic eruptions.\n",
      "\n",
      "3. **Atmospheric Composition**: Earth's atmosphere is a mix of gases like nitrogen, oxygen, argon, and others, which regulate temperature and prevent extreme conditions.\n",
      "\n",
      "These points provide a comprehensive overview of Earth's features and history.\n"
     ]
    }
   ],
   "source": [
    "# llm.invoke('hi')\n",
    "\n",
    "reponse = llm.invoke('tell me about the earth in 3 points')\n",
    "print(reponse.content)"
   ]
  },
  {
   "cell_type": "code",
   "execution_count": 12,
   "metadata": {},
   "outputs": [],
   "source": [
    "from langchain_core.messages import SystemMessage, HumanMessage"
   ]
  },
  {
   "cell_type": "code",
   "execution_count": 13,
   "metadata": {},
   "outputs": [
    {
     "name": "stdout",
     "output_type": "stream",
     "text": [
      "<think>\n",
      "Okay, so I need to tell my class about spiders in three points. Hmm, where do I start? Spiders... they're tricky because they don't have legs like humans or some other animals. So first, maybe I should explain that spiders are insects but without legs. That makes sense. Then, I remember hearing that spiders live in forests and have big webs to catch flies. That's a good point about their habitat and how they protect themselves.\n",
      "\n",
      "Wait, what else? Oh yeah, spiders can be dangerous because they bite and sting. They're also used in some magic tricks or in the entertainment industry. So maybe the third point should cover their uses and dangers. I think that covers it. Let me make sure each point is clear and concise so my class understands spiders without getting too complicated.\n",
      "</think>\n",
      "\n",
      "Spiders are insects that live in forests, where they have large webs to catch flies. They can be dangerous due to their bite and sting. Spiders are also used in magic tricks and entertainment industries.\n"
     ]
    }
   ],
   "source": [
    "# Message Templates\n",
    "question = HumanMessage('tell me about the spiders in 3 points')\n",
    "system = SystemMessage('You are an elementary teacher. You answer in short sentences')\n",
    "\n",
    "messages = [system, question]\n",
    "responses = llm.invoke(messages)\n",
    "\n",
    "print(responses.content)"
   ]
  },
  {
   "cell_type": "code",
   "execution_count": 14,
   "metadata": {},
   "outputs": [],
   "source": [
    "# Prompt Templates\n",
    "from langchain_core.prompts.chat import (\n",
    "    SystemMessagePromptTemplate,\n",
    "    HumanMessagePromptTemplate,\n",
    "    ChatPromptTemplate\n",
    ")\n",
    "\n",
    "from langchain_core.prompts.prompt import PromptTemplate"
   ]
  },
  {
   "cell_type": "code",
   "execution_count": 15,
   "metadata": {},
   "outputs": [
    {
     "data": {
      "text/plain": [
       "SystemMessage(content='You are an PhD teacher. You answer in short sentences', additional_kwargs={}, response_metadata={})"
      ]
     },
     "execution_count": 15,
     "metadata": {},
     "output_type": "execute_result"
    }
   ],
   "source": [
    "system = SystemMessagePromptTemplate.from_template('You are an {school} teacher. You answer in short sentences')\n",
    "question = HumanMessagePromptTemplate.from_template('tell me about the {topics} in {points} points')\n",
    "\n",
    "question.format(topics='human body', points=5)\n",
    "system.format(school='PhD')"
   ]
  },
  {
   "cell_type": "code",
   "execution_count": 17,
   "metadata": {},
   "outputs": [],
   "source": [
    "msgs = [system, question]\n",
    "\n",
    "template = ChatPromptTemplate(msgs)"
   ]
  },
  {
   "cell_type": "code",
   "execution_count": 19,
   "metadata": {},
   "outputs": [
    {
     "name": "stdout",
     "output_type": "stream",
     "text": [
      "<think>\n",
      "Okay, so I need to figure out how to explain the human body in five clear points. Hmm, where do I start? Well, the human body is a complex system that includes various organs and systems working together. So maybe one of the first things to talk about is its overall structure.\n",
      "\n",
      "Right, the human body has different parts like skeleton, muscles, blood, and organs. Each part plays a role in how we function. That makes sense as the first point because it sets the foundation for understanding the entire system.\n",
      "\n",
      "Next, I should think about how the body works. It's not just about its structure; it also processes information through cells and tissues. So maybe that's the second point—how the body functions by processing information through cells and tissues.\n",
      "\n",
      "Then, considering the different systems within the body, like the nervous system and endocrine system. These work together to maintain homeostasis, which is keeping internal conditions stable. That seems important because it shows how various parts of the body coordinate with each other.\n",
      "\n",
      "Also, the body's response to environmental changes is crucial. It processes signals from the environment through receptors in the skin or blood vessels. That would be another point—how the body responds to its surroundings by processing signals through receptors.\n",
      "\n",
      "Lastly, I should address the importance of the human body. From evolutionary purposes to our daily functions, understanding the body's role helps us appreciate how life works. That makes sense as the fifth point because it ties everything together and emphasizes the significance of studying the human body.\n",
      "\n",
      "Wait, did I cover all aspects? Let me see: structure, function, systems, responses, and importance. Yeah, that seems comprehensive. Each point builds on the previous one, providing a clear understanding of the human body.\n",
      "</think>\n",
      "\n",
      "The human body is a complex system composed of various components working together to maintain its function and survival. Here are five key points about the human body:\n",
      "\n",
      "1. **Structure**: The human body includes different parts such as the skeleton (structure of bones), muscles (functioning tissues), blood (circulatory system), and organs (like heart, lungs, and digestive system).\n",
      "\n",
      "2. **Function**: The body processes information through cells and tissues to maintain homeostasis, ensuring stable internal conditions necessary for proper bodily function.\n",
      "\n",
      "3. **Systems**: The nervous system and endocrine system work together to regulate various functions within the body, maintaining balance and stability.\n",
      "\n",
      "4. **Response**: The body responds to environmental changes by processing signals from receptors in the skin or blood vessels, allowing it to adapt to its surroundings.\n",
      "\n",
      "5. **Importance**: Understanding the human body's role is crucial for appreciating evolutionary purposes and daily life, highlighting its significance in our understanding of life processes.\n"
     ]
    }
   ],
   "source": [
    "query = template.invoke({'school': 'PhD', 'topics': 'human body', 'points': 5})\n",
    "\n",
    "answer = llm.invoke(query)\n",
    "print(answer.content)"
   ]
  }
 ],
 "metadata": {
  "kernelspec": {
   "display_name": ".venv",
   "language": "python",
   "name": "python3"
  },
  "language_info": {
   "codemirror_mode": {
    "name": "ipython",
    "version": 3
   },
   "file_extension": ".py",
   "mimetype": "text/x-python",
   "name": "python",
   "nbconvert_exporter": "python",
   "pygments_lexer": "ipython3",
   "version": "3.12.2"
  }
 },
 "nbformat": 4,
 "nbformat_minor": 2
}
