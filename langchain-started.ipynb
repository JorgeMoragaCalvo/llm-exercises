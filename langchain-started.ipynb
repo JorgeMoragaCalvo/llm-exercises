{
 "cells": [
  {
   "cell_type": "code",
   "execution_count": 2,
   "metadata": {},
   "outputs": [
    {
     "data": {
      "text/plain": [
       "True"
      ]
     },
     "execution_count": 2,
     "metadata": {},
     "output_type": "execute_result"
    }
   ],
   "source": [
    "from dotenv import load_dotenv\n",
    "\n",
    "load_dotenv('.env')"
   ]
  },
  {
   "cell_type": "code",
   "execution_count": 3,
   "metadata": {},
   "outputs": [
    {
     "data": {
      "text/plain": [
       "'https://api.smith.langchain.com'"
      ]
     },
     "execution_count": 3,
     "metadata": {},
     "output_type": "execute_result"
    }
   ],
   "source": [
    "import os\n",
    "\n",
    "os.environ['LANGCHAIN_ENDPOINT']"
   ]
  },
  {
   "cell_type": "code",
   "execution_count": 4,
   "metadata": {},
   "outputs": [],
   "source": [
    "from langchain_ollama import ChatOllama\n",
    "\n",
    "base_url = \"http://localhost:11434\"\n",
    "model = 'deepseek-r1:1.5b'\n",
    "\n",
    "llm = ChatOllama(\n",
    "    base_url=base_url,\n",
    "    model=model,\n",
    "    temperature=0.3\n",
    "    #num_predict=512\n",
    ")"
   ]
  },
  {
   "cell_type": "code",
   "execution_count": 11,
   "metadata": {},
   "outputs": [
    {
     "name": "stdout",
     "output_type": "stream",
     "text": [
      "<think>\n",
      "Okay, so I need to tell someone about Earth in three points. Hmm, where do I start? Well, Earth is a big planet, right? So maybe the first point should be that it's the largest object in our solar system. That makes sense because it's so massive compared to other planets.\n",
      "\n",
      "Next, I think about its composition. I remember hearing that Earth is mostly made up of rock and metal. Maybe I can say something like it has a crust, mantle, and core. The core being liquid iron or something? Yeah, that sounds right. And the crust is broken into plates that move, causing earthquakes and volcanic eruptions.\n",
      "\n",
      "Wait, but what about its atmosphere? Oh yeah, Earth's atmosphere is made up of gases like nitrogen, oxygen, argon, etc. I should mention that it's a mix of these gases to keep things from getting too hot or cold.\n",
      "\n",
      "And then the third point... maybe something about its history. Like how it formed over time and how life began on it. That would give more context about Earth as a planet with a rich history. So putting it all together, I can structure each point clearly.\n",
      "</think>\n",
      "\n",
      "Certainly! Here's an organized presentation of Earth in three clear points:\n",
      "\n",
      "1. **Largest Object in the Solar System**: Earth is the largest planet in our solar system by volume.\n",
      "\n",
      "2. **Composition and Structure**: Earth is composed primarily of rock and metal, including a crust, mantle, and core. The core is liquid iron, while the crust consists of tectonic plates that move, leading to earthquakes and volcanic eruptions.\n",
      "\n",
      "3. **Atmospheric Composition**: Earth's atmosphere is a mix of gases like nitrogen, oxygen, argon, and others, which regulate temperature and prevent extreme conditions.\n",
      "\n",
      "These points provide a comprehensive overview of Earth's features and history.\n"
     ]
    }
   ],
   "source": [
    "# llm.invoke('hi')\n",
    "\n",
    "reponse = llm.invoke('tell me about the earth in 3 points')\n",
    "print(reponse.content)"
   ]
  },
  {
   "cell_type": "code",
   "execution_count": 12,
   "metadata": {},
   "outputs": [],
   "source": [
    "from langchain_core.messages import SystemMessage, HumanMessage"
   ]
  },
  {
   "cell_type": "code",
   "execution_count": 13,
   "metadata": {},
   "outputs": [
    {
     "name": "stdout",
     "output_type": "stream",
     "text": [
      "<think>\n",
      "Okay, so I need to tell my class about spiders in three points. Hmm, where do I start? Spiders... they're tricky because they don't have legs like humans or some other animals. So first, maybe I should explain that spiders are insects but without legs. That makes sense. Then, I remember hearing that spiders live in forests and have big webs to catch flies. That's a good point about their habitat and how they protect themselves.\n",
      "\n",
      "Wait, what else? Oh yeah, spiders can be dangerous because they bite and sting. They're also used in some magic tricks or in the entertainment industry. So maybe the third point should cover their uses and dangers. I think that covers it. Let me make sure each point is clear and concise so my class understands spiders without getting too complicated.\n",
      "</think>\n",
      "\n",
      "Spiders are insects that live in forests, where they have large webs to catch flies. They can be dangerous due to their bite and sting. Spiders are also used in magic tricks and entertainment industries.\n"
     ]
    }
   ],
   "source": [
    "# Message Templates\n",
    "question = HumanMessage('tell me about the spiders in 3 points')\n",
    "system = SystemMessage('You are an elementary teacher. You answer in short sentences')\n",
    "\n",
    "messages = [system, question]\n",
    "responses = llm.invoke(messages)\n",
    "\n",
    "print(responses.content)"
   ]
  },
  {
   "cell_type": "code",
   "execution_count": 5,
   "metadata": {},
   "outputs": [],
   "source": [
    "# Prompt Templates\n",
    "from langchain_core.prompts.chat import (\n",
    "    SystemMessagePromptTemplate,\n",
    "    HumanMessagePromptTemplate,\n",
    "    ChatPromptTemplate\n",
    ")\n",
    "\n",
    "from langchain_core.prompts.prompt import PromptTemplate"
   ]
  },
  {
   "cell_type": "code",
   "execution_count": 6,
   "metadata": {},
   "outputs": [
    {
     "data": {
      "text/plain": [
       "SystemMessage(content='You are an PhD teacher. You answer in short sentences', additional_kwargs={}, response_metadata={})"
      ]
     },
     "execution_count": 6,
     "metadata": {},
     "output_type": "execute_result"
    }
   ],
   "source": [
    "system = SystemMessagePromptTemplate.from_template('You are an {school} teacher. You answer in short sentences')\n",
    "question = HumanMessagePromptTemplate.from_template('tell me about the {topics} in {points} points')\n",
    "\n",
    "question.format(topics='human body', points=5)\n",
    "system.format(school='PhD')"
   ]
  },
  {
   "cell_type": "code",
   "execution_count": 7,
   "metadata": {},
   "outputs": [],
   "source": [
    "msgs = [system, question]\n",
    "\n",
    "template = ChatPromptTemplate(msgs)"
   ]
  },
  {
   "cell_type": "code",
   "execution_count": 19,
   "metadata": {},
   "outputs": [
    {
     "name": "stdout",
     "output_type": "stream",
     "text": [
      "<think>\n",
      "Okay, so I need to figure out how to explain the human body in five clear points. Hmm, where do I start? Well, the human body is a complex system that includes various organs and systems working together. So maybe one of the first things to talk about is its overall structure.\n",
      "\n",
      "Right, the human body has different parts like skeleton, muscles, blood, and organs. Each part plays a role in how we function. That makes sense as the first point because it sets the foundation for understanding the entire system.\n",
      "\n",
      "Next, I should think about how the body works. It's not just about its structure; it also processes information through cells and tissues. So maybe that's the second point—how the body functions by processing information through cells and tissues.\n",
      "\n",
      "Then, considering the different systems within the body, like the nervous system and endocrine system. These work together to maintain homeostasis, which is keeping internal conditions stable. That seems important because it shows how various parts of the body coordinate with each other.\n",
      "\n",
      "Also, the body's response to environmental changes is crucial. It processes signals from the environment through receptors in the skin or blood vessels. That would be another point—how the body responds to its surroundings by processing signals through receptors.\n",
      "\n",
      "Lastly, I should address the importance of the human body. From evolutionary purposes to our daily functions, understanding the body's role helps us appreciate how life works. That makes sense as the fifth point because it ties everything together and emphasizes the significance of studying the human body.\n",
      "\n",
      "Wait, did I cover all aspects? Let me see: structure, function, systems, responses, and importance. Yeah, that seems comprehensive. Each point builds on the previous one, providing a clear understanding of the human body.\n",
      "</think>\n",
      "\n",
      "The human body is a complex system composed of various components working together to maintain its function and survival. Here are five key points about the human body:\n",
      "\n",
      "1. **Structure**: The human body includes different parts such as the skeleton (structure of bones), muscles (functioning tissues), blood (circulatory system), and organs (like heart, lungs, and digestive system).\n",
      "\n",
      "2. **Function**: The body processes information through cells and tissues to maintain homeostasis, ensuring stable internal conditions necessary for proper bodily function.\n",
      "\n",
      "3. **Systems**: The nervous system and endocrine system work together to regulate various functions within the body, maintaining balance and stability.\n",
      "\n",
      "4. **Response**: The body responds to environmental changes by processing signals from receptors in the skin or blood vessels, allowing it to adapt to its surroundings.\n",
      "\n",
      "5. **Importance**: Understanding the human body's role is crucial for appreciating evolutionary purposes and daily life, highlighting its significance in our understanding of life processes.\n"
     ]
    }
   ],
   "source": [
    "query = template.invoke({'school': 'PhD', 'topics': 'human body', 'points': 5})\n",
    "\n",
    "answer = llm.invoke(query)\n",
    "print(answer.content)"
   ]
  },
  {
   "cell_type": "markdown",
   "metadata": {},
   "source": [
    "## LangChain Expression Language (LCEL) Basics\n",
    "\n",
    "- Using the pipe operator `|` or the more explicit `.pipe()` method.\n",
    "- Type of LCEL chains:\n",
    "  - SequentialChain.\n",
    "  - ParallelChain.\n",
    "  - RouterChain.\n",
    "  - Chain Runnables.\n",
    "  - Custom Chain (Runnable Sequence)."
   ]
  },
  {
   "cell_type": "code",
   "execution_count": 8,
   "metadata": {},
   "outputs": [],
   "source": [
    "chain = template | llm"
   ]
  },
  {
   "cell_type": "code",
   "execution_count": 11,
   "metadata": {},
   "outputs": [
    {
     "name": "stdout",
     "output_type": "stream",
     "text": [
      "<think>\n",
      "Okay, so I need to tell someone about the brain in five points. Hmm, where do I start? Well, I know that the brain is this important organ, but I'm not exactly sure what it does or how it works. Let me think... The user mentioned they're a PhD teacher and asked for short sentences, so maybe I should keep each point concise.\n",
      "\n",
      "First, I guess I should talk about what the brain does overall. It's like the center of our nervous system, right? So maybe something about its role in processing information or emotions. That makes sense because without the brain, we wouldn't have thoughts or feelings.\n",
      "\n",
      "Next, how is the brain structured? I remember hearing that it has billions of neurons. They connect with chemical synapses and can form long connections called axons. Maybe I should mention both types of connections—chemical and electrical—and give examples like dendrites and axon terminals for the former, and action potentials for the latter.\n",
      "\n",
      "Then, how does the brain function? It's a complex system that processes information through neurons firing and sending signals. This processing can be rapid or slower, depending on the task. I should explain that it uses both electrical and chemical signals to communicate.\n",
      "\n",
      "After that, maybe talk about different types of brain activity. There are active, resting, sleep, and REM states. Active is when we're thinking or moving, while REM is a deep sleep where we can't move much but have vivid memories. It's important because REM helps with creativity and problem-solving.\n",
      "\n",
      "Finally, how the brain develops. The brain grows from a glimmer of possibility in infants to become specialized for each task as they grow. This development allows us to think critically, reason logically, and solve problems effectively.\n",
      "\n",
      "Wait, did I cover all five points? Let me check: structure (neurons, synapses), function (processing information), types of activity (active, resting, sleep, REM), and development. Yeah, that's five clear points. I should make sure each is a short sentence without being too wordy.\n",
      "</think>\n",
      "\n",
      "1. The brain is the central organ of our nervous system, processing information and emotions for us.\n",
      "\n",
      "2. It consists of billions of neurons, which connect through both chemical synapses (dendrites) and electrical synapses (axon terminals).\n",
      "\n",
      "3. The brain functions by firing neurons to process information, using a combination of electrical and chemical signals.\n",
      "\n",
      "4. Different brain states include active (thinking or moving), resting, sleep, and REM (deep sleep for vivid memories).\n",
      "\n",
      "5. The brain develops from a glimmer of possibility in infants to specialize in tasks as it grows, enabling critical thinking and problem-solving.\n"
     ]
    }
   ],
   "source": [
    "resp = chain.invoke({'school': 'PhD', 'topics': 'brain', 'points': 5})\n",
    "print(resp.content)"
   ]
  },
  {
   "cell_type": "code",
   "execution_count": 12,
   "metadata": {},
   "outputs": [],
   "source": [
    "from langchain_core.output_parsers import StrOutputParser"
   ]
  },
  {
   "cell_type": "code",
   "execution_count": 13,
   "metadata": {},
   "outputs": [
    {
     "name": "stdout",
     "output_type": "stream",
     "text": [
      "<think>\n",
      "Okay, so I need to figure out how to explain the philosophy of education based on the user's query. They asked for three points about the philosophy in a PhD context, but since they didn't specify exactly what they're looking for, I have to make educated guesses.\n",
      "\n",
      "First, I should consider common philosophical approaches in education. There's cognitive-behavioral psychology, which focuses on changing negative thought patterns and behaviors. Then there's constructivism, which emphasizes active learning through exploration and discovery. Lastly, social justice theory is another big one, focusing on equity and inclusion.\n",
      "\n",
      "I think the user might be a PhD student looking for an overview of educational philosophy. They probably want to understand different perspectives before diving into specific theories. So, structuring it with these three points makes sense because they cover major areas in education's philosophical foundations.\n",
      "\n",
      "Each point should explain what the approach is, its key ideas, and how it influences teaching methods or curriculum development. That way, the user gets a clear idea of each philosophy without getting too bogged down in specifics that might not be necessary for their research.\n",
      "</think>\n",
      "\n",
      "Certainly! Here are three common perspectives on the philosophy of education:\n",
      "\n",
      "1. **Cognitive-behavioral psychology (CBP)**: This approach focuses on understanding and changing negative thought patterns and behaviors. It emphasizes self-awareness, metacognition, and emotional regulation to foster better academic performance and resilience in the face of challenges.\n",
      "\n",
      "2. **Constructivism**: This philosophy posits that learners actively construct knowledge through experiences and interactions with their environment. It supports teaching methods that encourage exploration, problem-solving, and collaboration, often through hands-on activities and real-world applications.\n",
      "\n",
      "3. **Social justice theory**: This perspective emphasizes the importance of equity and inclusion in education. It argues that all students deserve access to a fair and equitable education, regardless of their background or identity, and that educators should strive to create inclusive and supportive learning environments for everyone.\n"
     ]
    }
   ],
   "source": [
    "chain = template | llm | StrOutputParser()\n",
    "\n",
    "resp = chain.invoke({'school': 'PhD', 'topics': 'philosophy', 'points': 3})\n",
    "print(resp)"
   ]
  },
  {
   "cell_type": "markdown",
   "metadata": {},
   "source": [
    "## Chaining Runnables (chain multiple runnabes)"
   ]
  },
  {
   "cell_type": "code",
   "execution_count": 16,
   "metadata": {},
   "outputs": [
    {
     "name": "stdout",
     "output_type": "stream",
     "text": [
      "<think>\n",
      "Okay, so I'm trying to figure out how hard it is to understand the philosophy of education. From what I know, education has a lot of different theories and approaches, but I'm not entirely sure where to start. Let me break this down step by step.\n",
      "\n",
      "First, I think about what education really means. It's about teaching people how to think, learn, and solve problems. But when you look at the philosophy side, it seems like there are various ways people view it. Maybe some focus more on individual learning styles, while others emphasize collaboration or critical thinking.\n",
      "\n",
      "I remember hearing about cognitive-behavioral psychology (CBP) before. I think that's a school of thought in psychology that deals with how we learn and change our behavior. It focuses on identifying and changing negative beliefs and behaviors. So, if someone has bad habits or beliefs about learning, CBP would help them work on those.\n",
      "\n",
      "Then there's constructivism. From what I've heard, this approach is more about active learning. Instead of just memorizing facts, it encourages students to explore concepts through experiments and discussions. It's like building something from the ground up, where you can see how things work by interacting with them directly.\n",
      "\n",
      "And then there's social justice theory. This one sounds a bit different. I think it's about making sure that everyone has equal opportunities to succeed. So, in education, this might mean creating inclusive classrooms where all students feel valued and have the chance to succeed, regardless of their background or circumstances.\n",
      "\n",
      "But how does all of this tie into understanding the philosophy of education? It seems like each approach offers a different way of looking at the subject. CBP is more about individual development and overcoming negative thought patterns. Constructivism is about teaching through active engagement and exploration. Social justice theory is about creating an equitable environment for everyone.\n",
      "\n",
      "I'm still not entirely clear on how these approaches are applied in real educational settings. Do teachers use a mix of these philosophies, or do they lean heavily towards one? Also, I wonder if there's overlap between them or if they're distinct but complementary.\n",
      "\n",
      "Maybe it would help to look at specific examples. For CBP, I think schools might focus on helping students identify and challenge negative beliefs about school or learning. They might use techniques like mindfulness or reflection to change how people view their own behavior.\n",
      "\n",
      "Constructivism could involve teachers encouraging students to take ownership of their learning through projects or group work. Students are not just passive recipients but active participants in the process of discovery.\n",
      "\n",
      "Social justice theory would likely aim for a more equitable education system, where resources and opportunities are distributed fairly among all students. This might mean implementing policies that address systemic issues like poverty or discrimination in schools.\n",
      "\n",
      "Overall, it seems like the philosophy of education is quite diverse, with each approach offering unique perspectives on teaching and learning. Understanding these different angles could help educators choose methods that best suit their students' needs and the goals they're trying to achieve.\n",
      "</think>\n",
      "\n",
      "The philosophy of education encompasses various approaches that offer distinct ways of understanding and teaching the subject. Here's a structured overview:\n",
      "\n",
      "1. **Cognitive-Behavioral Psychology (CBP)**: This approach focuses on identifying and challenging negative thought patterns and behaviors. It emphasizes self-awareness, metacognition, and emotional regulation to foster resilience against challenges.\n",
      "\n",
      "2. **Constructivism**: This philosophy advocates for active learning through exploration, problem-solving, and collaboration. Students are encouraged to engage with concepts directly, building knowledge by interacting with the material.\n",
      "\n",
      "3. **Social Justice Theory**: This perspective emphasizes equity and inclusion in education. It aims to create fair environments where all students have equal opportunities to succeed, regardless of their background or circumstances.\n",
      "\n",
      "These philosophies offer different approaches to teaching and learning, each focusing on individual development, active engagement, and equitable access. Understanding these perspectives can help educators choose methods that best meet student needs and educational goals.\n"
     ]
    }
   ],
   "source": [
    "analysis_prompt = ChatPromptTemplate.from_template('''analyze the following text: {resp}\n",
    "                                                   You need tell me about how difficult it is to understand.\n",
    "                                                   Answer in one sentence only\n",
    "                                                   ''')\n",
    "\n",
    "fact_check_chain = analysis_prompt | llm | StrOutputParser()\n",
    "output = fact_check_chain.invoke({'resp': resp})\n",
    "print(output)"
   ]
  }
 ],
 "metadata": {
  "kernelspec": {
   "display_name": ".venv",
   "language": "python",
   "name": "python3"
  },
  "language_info": {
   "codemirror_mode": {
    "name": "ipython",
    "version": 3
   },
   "file_extension": ".py",
   "mimetype": "text/x-python",
   "name": "python",
   "nbconvert_exporter": "python",
   "pygments_lexer": "ipython3",
   "version": "3.12.2"
  }
 },
 "nbformat": 4,
 "nbformat_minor": 2
}
