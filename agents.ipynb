{
 "cells": [
  {
   "cell_type": "code",
   "execution_count": 1,
   "metadata": {},
   "outputs": [
    {
     "data": {
      "text/plain": [
       "True"
      ]
     },
     "execution_count": 1,
     "metadata": {},
     "output_type": "execute_result"
    }
   ],
   "source": [
    "from dotenv import load_dotenv\n",
    "import os\n",
    "\n",
    "os.environ['KMP_DUPLICATE_LIB_OK'] = 'True'\n",
    "\n",
    "load_dotenv('.env')"
   ]
  },
  {
   "cell_type": "code",
   "execution_count": 2,
   "metadata": {},
   "outputs": [],
   "source": [
    "from langchain_ollama import ChatOllama\n",
    "from langchain_core.output_parsers import StrOutputParser\n",
    "from langchain_core.runnables import RunnablePassthrough\n",
    "from langchain_core.prompts import ChatPromptTemplate\n",
    "from langchain_core.tools import tool\n",
    "\n",
    "llm = ChatOllama(model='llama3.2:latest', base_url='http://localhost:11434')"
   ]
  },
  {
   "cell_type": "markdown",
   "metadata": {},
   "source": [
    "## Define Tools"
   ]
  },
  {
   "cell_type": "code",
   "execution_count": 4,
   "metadata": {},
   "outputs": [],
   "source": [
    "from langchain_community.tools import TavilySearchResults\n",
    "\n",
    "@tool\n",
    "def search(query: str) -> str:\n",
    "    \"\"\"\n",
    "    Busca en la web información general actualizada y en tiempo real.\n",
    "    Por ejemplo: noticias, actualizaciones del clima, últimas tendencias en IA, etc.\n",
    "\n",
    "    Args:\n",
    "        query: la consulta de búsqueda.\n",
    "    \"\"\"\n",
    "    search = TavilySearchResults(\n",
    "        max_results=5,\n",
    "        search_depth='advanced',\n",
    "        include_answer=True,\n",
    "        include_raw_content=True,\n",
    "    )\n",
    "    response = search.invoke(query)\n",
    "    return response\n",
    "    "
   ]
  },
  {
   "cell_type": "code",
   "execution_count": 5,
   "metadata": {},
   "outputs": [],
   "source": [
    "from langchain_ollama import OllamaEmbeddings\n",
    "import faiss\n",
    "from langchain_community.vectorstores import FAISS\n",
    "from langchain_community.docstore.in_memory import InMemoryDocstore\n",
    "\n",
    "embeddings = OllamaEmbeddings(model='nomic-embed-text', base_url='http://localhost:11434')\n",
    "\n",
    "db_name = r'C:\\Users\\Jorge Moraga Calvo\\Desktop\\Python\\langchain\\operations_research'\n",
    "vector_store = FAISS.load_local(db_name, embeddings, allow_dangerous_deserialization=True)\n",
    "\n",
    "retriever = vector_store.as_retriever(search_type='similarity',\n",
    "                                      search_kwargs={'k': 3})"
   ]
  },
  {
   "cell_type": "code",
   "execution_count": 6,
   "metadata": {},
   "outputs": [
    {
     "data": {
      "text/plain": [
       "VectorStoreRetriever(tags=['FAISS', 'OllamaEmbeddings'], vectorstore=<langchain_community.vectorstores.faiss.FAISS object at 0x000001DBFE28AE70>, search_kwargs={'k': 3})"
      ]
     },
     "execution_count": 6,
     "metadata": {},
     "output_type": "execute_result"
    }
   ],
   "source": [
    "retriever"
   ]
  },
  {
   "cell_type": "code",
   "execution_count": 7,
   "metadata": {},
   "outputs": [],
   "source": [
    "@tool\n",
    "def operations_research(query: str) -> str:\n",
    "    \"\"\"\n",
    "    Busca información sobre la historia y características de la investigación de operaciones.\n",
    "    Para cualquier duda o pregunta sobre este aspecto, debes usar esta herramienta.\n",
    "    Si la pregunta no está relacionada con la investigación de operaciones, simplementa response: `No sé sobre\n",
    "    ese tema, está fuera de mi alcance`.\n",
    "\n",
    "    Args:\n",
    "        query: la consulta de búsqueda\n",
    "    \"\"\"\n",
    "\n",
    "    response = retriever.invoke(query)\n",
    "    return response"
   ]
  },
  {
   "cell_type": "code",
   "execution_count": 8,
   "metadata": {},
   "outputs": [
    {
     "data": {
      "text/plain": [
       "[Document(id='efe628e5-c91f-469f-a334-7c4281b6637f', metadata={'producer': 'Adobe Acrobat 8.1', 'creator': 'Adobe Acrobat 8.1 Combine Files', 'creationdate': '2010-05-24T10:07:08-05:00', 'source': 'document_store/pdfs\\\\hillier_lieberman_proof.pdf', 'file_path': 'document_store/pdfs\\\\hillier_lieberman_proof.pdf', 'total_pages': 20, 'format': 'PDF 1.6', 'title': 'Introduccion a la investigacion de operaciones', 'author': 'Frederick S. Hillier', 'subject': '', 'keywords': '', 'moddate': '2010-07-07T13:08:58-05:00', 'trapped': '', 'page': 8}, page_content='■2.2 FORMULACIÓN DE UN MODELO MATEMÁTICO\\nUna vez que el tomador de decisiones defi ne el problema, la siguiente etapa consiste en reformular-\\nlo de manera conveniente para su análisis. La forma convencional en que la investigación de ope-\\nraciones logra este objetivo es mediante la construcción de un modelo matemático que represente \\nla esencia del problema. Antes de analizar cómo se elaboran los modelos de este tipo se explorará'),\n",
       " Document(id='3746894e-9bc3-4819-82d4-9d60f83bd27b', metadata={'producer': 'Adobe Acrobat 8.1', 'creator': 'Adobe Acrobat 8.1 Combine Files', 'creationdate': '2010-05-24T10:07:08-05:00', 'source': 'document_store/pdfs\\\\hillier_lieberman_proof.pdf', 'file_path': 'document_store/pdfs\\\\hillier_lieberman_proof.pdf', 'total_pages': 20, 'format': 'PDF 1.6', 'title': 'Introduccion a la investigacion de operaciones', 'author': 'Frederick S. Hillier', 'subject': '', 'keywords': '', 'moddate': '2010-07-07T13:08:58-05:00', 'trapped': '', 'page': 9}, page_content='describe la manera en que el proceso de prueba de un modelo conduce a una serie de modelos que \\nproporcionan representaciones cada vez mejores del problema real. Incluso, es posible desarrollar \\ndos o más tipos de modelos diferentes para analizar el mismo problema.\\nA lo largo de este libro se proporcionarán numerosos ejemplos de modelos matemáticos. En \\nlos capítulos siguientes se estudia cierta clase de modelo con una importancia especial, denomina-'),\n",
       " Document(id='fee26352-18aa-4b8f-ae07-0b2abdd2c853', metadata={'producer': 'Adobe Acrobat 8.1', 'creator': 'Adobe Acrobat 8.1 Combine Files', 'creationdate': '2010-05-24T10:07:08-05:00', 'source': 'document_store/pdfs\\\\hillier_lieberman_proof.pdf', 'file_path': 'document_store/pdfs\\\\hillier_lieberman_proof.pdf', 'total_pages': 20, 'format': 'PDF 1.6', 'title': 'Introduccion a la investigacion de operaciones', 'author': 'Frederick S. Hillier', 'subject': '', 'keywords': '', 'moddate': '2010-07-07T13:08:58-05:00', 'trapped': '', 'page': 9}, page_content='una amplia disponibilidad de paquetes de software para resolver muchos tipos de modelos mate-\\nmáticos, en computadoras personales y de gran poder.\\nPor otro lado, existen obstáculos que se deben evitar cuando se utilizan modelos matemáticos. \\nUn modelo es, por necesidad, una idealización abstracta del problema, por lo que casi siempre se \\nrequieren aproximaciones y supuestos de simplifi cación si se desea que el modelo sea manejable')]"
      ]
     },
     "execution_count": 8,
     "metadata": {},
     "output_type": "execute_result"
    }
   ],
   "source": [
    "operations_research.invoke(\"¿Cómo es la formulación de un modelo matemático?\")"
   ]
  },
  {
   "cell_type": "markdown",
   "metadata": {},
   "source": [
    "### Agent\n",
    "- The **agent** is responsible for taking in input and deciding what actions to take.\n",
    "- The **agent** doesn't execute those actions - that is done by the `AgentExecutor`\n",
    "- `create_tool_calling_agent` will call `.bind_tools` for us under the hood "
   ]
  },
  {
   "cell_type": "code",
   "execution_count": 9,
   "metadata": {},
   "outputs": [],
   "source": [
    "from langchain import hub\n",
    "from langchain.agents import create_tool_calling_agent\n",
    "from langchain.agents import AgentExecutor"
   ]
  },
  {
   "cell_type": "code",
   "execution_count": 10,
   "metadata": {},
   "outputs": [],
   "source": [
    "prompt = hub.pull('hwchase17/openai-functions-agent')"
   ]
  },
  {
   "cell_type": "code",
   "execution_count": 11,
   "metadata": {},
   "outputs": [
    {
     "data": {
      "text/plain": [
       "[SystemMessagePromptTemplate(prompt=PromptTemplate(input_variables=[], input_types={}, partial_variables={}, template='You are a helpful assistant'), additional_kwargs={}),\n",
       " MessagesPlaceholder(variable_name='chat_history', optional=True),\n",
       " HumanMessagePromptTemplate(prompt=PromptTemplate(input_variables=['input'], input_types={}, partial_variables={}, template='{input}'), additional_kwargs={}),\n",
       " MessagesPlaceholder(variable_name='agent_scratchpad')]"
      ]
     },
     "execution_count": 11,
     "metadata": {},
     "output_type": "execute_result"
    }
   ],
   "source": [
    "prompt.messages"
   ]
  },
  {
   "cell_type": "code",
   "execution_count": 12,
   "metadata": {},
   "outputs": [],
   "source": [
    "tools = [search, operations_research]\n",
    "agent = create_tool_calling_agent(llm=llm, tools=tools, prompt=prompt)"
   ]
  },
  {
   "cell_type": "code",
   "execution_count": 13,
   "metadata": {},
   "outputs": [],
   "source": [
    "agent_executor = AgentExecutor(agent=agent, tools=tools, verbose=True)"
   ]
  },
  {
   "cell_type": "code",
   "execution_count": 14,
   "metadata": {},
   "outputs": [
    {
     "name": "stdout",
     "output_type": "stream",
     "text": [
      "\n",
      "\n",
      "\u001b[1m> Entering new AgentExecutor chain...\u001b[0m\n",
      "\u001b[32;1m\u001b[1;3m\n",
      "Invoking: `search` with `{'query': 'Ñcutas óra de IA'}`\n",
      "\n",
      "\n",
      "\u001b[0m\u001b[36;1m\u001b[1;3m[{'url': 'https://creati.ai/pt/ai-tools/ora-ai/', 'content': 'A ORA é uma plataforma inovadora de IA que permite aos usuários criar chatbots altamente personalizáveis de forma rápida e eficaz. Com foco na facilidade de uso, a ORA elimina as complexidades geralmente associadas ao desenvolvimento de IA, tornando-se acessível tanto para novatos quanto para profissionais.'}, {'url': 'https://creati.ai/es/ai-tools/ora-ai/', 'content': 'ORA es una plataforma de IA innovadora que permite a los usuarios crear chatbots altamente personalizables de manera rápida y eficiente. Con un enfoque en la facilidad de uso, ORA elimina las complejidades asociadas a menudo con el desarrollo de IA, haciéndola accesible tanto para principiantes como para profesionales.'}, {'url': 'https://www.talkoraia.com.mx/', 'content': 'ORA IA La Primera Inteligencia Artificial Conversacional Hispanohablante. Participación Instantánea con Clientes Potenciales: Tan pronto como llega un posible cliente, la IA comienza a trabajar para asegurar que no se pierda ninguna oportunidad. Clasificación y Etiquetado Automático: Los clientes potenciales son evaluados y etiquetados automáticamente en la plataforma de llamadas con IA'}, {'url': 'https://www.talkoraia.com/pricing', 'content': 'Consulta los planes de precios de ORA IA. Accede a nuestras soluciones de inteligencia artificial para automatizar llamadas y programación de citas, con opciones flexibles y transparentes, incluyendo instalación en menos de 10 días y tarifas por minuto conversado.'}, {'url': 'https://www.youtube.com/watch?v=St6VYZ97kak', 'content': 'En este video hablaremos de ORA IA, la primera inteligencia artificial conversacional de todo el mercado hispanohablante. En este video ilustramos una demo d'}]\u001b[0m\u001b[32;1m\u001b[1;3mLas últimas tendencias en Inteligencia Artificial (IA) incluyen:\n",
      "\n",
      "1. **Plataformas de chatbots**: Se han desarrollado plataformas como ORA IA, que permiten a los usuarios crear chatbots altamente personalizables de forma rápida y eficaz.\n",
      "2. **Automatización de llamadas**: La automatización de llamadas es una tendencia en crecimiento, con soluciones como ORA IA que permiten automatizar las llamadas y programación de citas.\n",
      "3. **Clasificación y etiquetado automático**: La clasificación y etiquetado automático de clientes potenciales son técnicas utilizadas por la IA para evaluar y priorizar oportunidades de negocio.\n",
      "4. **Precios flexibles y transparentes**: Las empresas como ORA IA ofrecen planes de precios flexibles y transparentes, con opciones que incluyen instalación en menos de 10 días.\n",
      "5. **Inteligencia artificial conversacional hispanohablante**: La IA conversacional hispanohablante es una tendencia emergente, con soluciones como ORA IA que permiten interactuar con clientes potenciales de manera natural y eficiente.\n",
      "\n",
      "En resumen, las últimas tendencias en IA se centran en la automatización de procesos, la personalización de experiencias del cliente y la transparencia en los precios.\u001b[0m\n",
      "\n",
      "\u001b[1m> Finished chain.\u001b[0m\n"
     ]
    }
   ],
   "source": [
    "question = \"¿Cuál son las últimas tendencias en IA?\"\n",
    "response = agent_executor.invoke({'input': question})"
   ]
  }
 ],
 "metadata": {
  "kernelspec": {
   "display_name": ".venv",
   "language": "python",
   "name": "python3"
  },
  "language_info": {
   "codemirror_mode": {
    "name": "ipython",
    "version": 3
   },
   "file_extension": ".py",
   "mimetype": "text/x-python",
   "name": "python",
   "nbconvert_exporter": "python",
   "pygments_lexer": "ipython3",
   "version": "3.12.2"
  }
 },
 "nbformat": 4,
 "nbformat_minor": 2
}
