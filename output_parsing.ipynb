{
 "cells": [
  {
   "cell_type": "markdown",
   "metadata": {},
   "source": [
    "## OUTPUT PARSING\n",
    "- Output Parsing:\n",
    "  - StrOutputParser.\n",
    "  - JsonOutputParser.\n",
    "  - CSV Output Parser.\n",
    "  - Datatime Output Parser.\n",
    "  - Structured Output Parser (Pydantic or Json).\n",
    "Output parser are classes that help structure LLM responses. There are two main methods:\n",
    "- **Get format instructions**: a methods which returns a string containing instructions for how the output of a LLM should be formatted.\n",
    "- **Parse**: a method which takes in a string (from LLM response) and parse it into some structure.\n",
    "\n",
    "### `Pydantic` Output Parser"
   ]
  },
  {
   "cell_type": "code",
   "execution_count": 1,
   "metadata": {},
   "outputs": [
    {
     "data": {
      "text/plain": [
       "True"
      ]
     },
     "execution_count": 1,
     "metadata": {},
     "output_type": "execute_result"
    }
   ],
   "source": [
    "from dotenv import load_dotenv\n",
    "load_dotenv('.env')"
   ]
  },
  {
   "cell_type": "code",
   "execution_count": 2,
   "metadata": {},
   "outputs": [],
   "source": [
    "from langchain_ollama import ChatOllama\n",
    "from langchain_core.prompts import (\n",
    "    SystemMessagePromptTemplate,\n",
    "    HumanMessagePromptTemplate,\n",
    "    ChatPromptTemplate,\n",
    "    PromptTemplate\n",
    ")\n",
    "\n",
    "base_url = 'http://localhost:11434'\n",
    "model = 'deepseek-r1:1.5b'\n",
    "\n",
    "llm = ChatOllama(base_url=base_url, model=model)"
   ]
  },
  {
   "cell_type": "code",
   "execution_count": 3,
   "metadata": {},
   "outputs": [],
   "source": [
    "from typing import Optional\n",
    "from pydantic import BaseModel, Field\n",
    "from langchain_core.output_parsers import PydanticOutputParser"
   ]
  },
  {
   "cell_type": "code",
   "execution_count": 8,
   "metadata": {},
   "outputs": [],
   "source": [
    "class Joke(BaseModel):\n",
    "    \"\"\"Joke to tell user\"\"\"\n",
    "    setup: str = Field(description=\"The setup of the joke\")\n",
    "    punchline: str = Field(description=\"The punchline of the joke\")\n",
    "    rating: Optional[int] = Field(description=\"The rating of the joke is from to 10\", default=None)"
   ]
  },
  {
   "cell_type": "code",
   "execution_count": 5,
   "metadata": {},
   "outputs": [
    {
     "name": "stdout",
     "output_type": "stream",
     "text": [
      "The output should be formatted as a JSON instance that conforms to the JSON schema below.\n",
      "\n",
      "As an example, for the schema {\"properties\": {\"foo\": {\"title\": \"Foo\", \"description\": \"a list of strings\", \"type\": \"array\", \"items\": {\"type\": \"string\"}}}, \"required\": [\"foo\"]}\n",
      "the object {\"foo\": [\"bar\", \"baz\"]} is a well-formatted instance of the schema. The object {\"properties\": {\"foo\": [\"bar\", \"baz\"]}} is not well-formatted.\n",
      "\n",
      "Here is the output schema:\n",
      "```\n",
      "{\"description\": \"Joke to tell user\", \"properties\": {\"setup\": {\"description\": \"The setup of the joke\", \"title\": \"Setup\", \"type\": \"string\"}, \"punchline\": {\"description\": \"The punchline of the joke\", \"title\": \"Punchline\", \"type\": \"string\"}, \"rating\": {\"anyOf\": [{\"type\": \"integer\"}, {\"type\": \"null\"}], \"description\": \"The rating of the joke is from to 10\", \"title\": \"Rating\"}}, \"required\": [\"setup\", \"punchline\", \"rating\"]}\n",
      "```\n"
     ]
    }
   ],
   "source": [
    "# what output schema we want\n",
    "parser = PydanticOutputParser(pydantic_object=Joke)\n",
    "instruction = parser.get_format_instructions()\n",
    "print(instruction)"
   ]
  },
  {
   "cell_type": "code",
   "execution_count": 6,
   "metadata": {},
   "outputs": [
    {
     "name": "stdout",
     "output_type": "stream",
     "text": [
      "<think>\n",
      "Okay, so I've got this query where the user wants me to tell them about the cat. But it's not just a straightforward question; they want a joke in return with some setup and punchline that fits into the provided schema.\n",
      "\n",
      "First, I need to understand what the user is asking for. They're probably looking for something funny related to cats, maybe a pun or a humorous fact. The output needs to be formatted as a JSON object with setup, punchline, and rating fields. \n",
      "\n",
      "Looking at the example they gave, it's clear that each property is defined: setup describes what goes in, punchline is the joke itself, and rating determines how good the joke is on a scale from 1 to 10.\n",
      "\n",
      "So, for the cat joke, I should think of something that plays on familiar cat-related terms. The cat's tail is a common symbol, but maybe there's another angle. How about the cat being a superhero? That could be a clever twist and make it humorous in a fun way.\n",
      "\n",
      "Setting up this joke, I can say: \"The cat is a superhero! Why did the cat go to bed? To rest on its back, of course.\" The punchline is straightforward but fits the structure. The rating would probably be 7/10 because it's funny yet not too obscure.\n",
      "\n",
      "I need to make sure all the properties are correctly defined. Setup: \"The cat is a superhero! Why did the cat go to bed? To rest on its back, of course.\" Punchline: \"The cat is a superhero! Why did the cat go to bed? To rest on its back, of course.\" Rating: 7/10.\n",
      "\n",
      "Wait, does that cover all points? Yes, setup explains what's inside, punchline is the joke, and rating gives it a score. I think this should work well for the user.\n",
      "</think>\n",
      "\n",
      "```json\n",
      "{\n",
      "  \"setup\": \"The cat is a superhero! Why did the cat go to bed? To rest on its back, of course.\",\n",
      "  \"punchline\": \"The cat is a superhero! Why did the cat go to bed? To rest on its back, of course.\",\n",
      "  \"rating\": \"7/10\"\n",
      "}\n",
      "```\n"
     ]
    }
   ],
   "source": [
    "prompt = PromptTemplate(\n",
    "    template='''\n",
    "    Answer the user query with a joke. Here is your formatting instruction.\n",
    "    {format_instruction}\n",
    "\n",
    "    Query: {query}\n",
    "    Answer:''',\n",
    "    input_variables=['query'],\n",
    "    partial_variables={'format_instruction': parser.get_format_instructions()}\n",
    ")\n",
    "\n",
    "chain = prompt | llm\n",
    "ouput = chain.invoke({'query': 'Tell about the cat'})\n",
    "print(ouput.content)"
   ]
  },
  {
   "cell_type": "code",
   "execution_count": 9,
   "metadata": {},
   "outputs": [],
   "source": [
    "from langchain_core.output_parsers import JsonOutputParser"
   ]
  },
  {
   "cell_type": "code",
   "execution_count": 10,
   "metadata": {},
   "outputs": [
    {
     "name": "stdout",
     "output_type": "stream",
     "text": [
      "The output should be formatted as a JSON instance that conforms to the JSON schema below.\n",
      "\n",
      "As an example, for the schema {\"properties\": {\"foo\": {\"title\": \"Foo\", \"description\": \"a list of strings\", \"type\": \"array\", \"items\": {\"type\": \"string\"}}}, \"required\": [\"foo\"]}\n",
      "the object {\"foo\": [\"bar\", \"baz\"]} is a well-formatted instance of the schema. The object {\"properties\": {\"foo\": [\"bar\", \"baz\"]}} is not well-formatted.\n",
      "\n",
      "Here is the output schema:\n",
      "```\n",
      "{\"description\": \"Joke to tell user\", \"properties\": {\"setup\": {\"description\": \"The setup of the joke\", \"title\": \"Setup\", \"type\": \"string\"}, \"punchline\": {\"description\": \"The punchline of the joke\", \"title\": \"Punchline\", \"type\": \"string\"}, \"rating\": {\"anyOf\": [{\"type\": \"integer\"}, {\"type\": \"null\"}], \"default\": null, \"description\": \"The rating of the joke is from to 10\", \"title\": \"Rating\"}}, \"required\": [\"setup\", \"punchline\"]}\n",
      "```\n"
     ]
    }
   ],
   "source": [
    "parser = JsonOutputParser(pydantic_object=Joke)\n",
    "print(parser.get_format_instructions())"
   ]
  },
  {
   "cell_type": "code",
   "execution_count": 11,
   "metadata": {},
   "outputs": [
    {
     "name": "stdout",
     "output_type": "stream",
     "text": [
      "Your response should be a list of comma separated values, eg: `foo, bar, baz` or `foo,bar,baz`\n"
     ]
    }
   ],
   "source": [
    "from langchain_core.output_parsers import CommaSeparatedListOutputParser\n",
    "parser = CommaSeparatedListOutputParser()\n",
    "print(parser.get_format_instructions())"
   ]
  },
  {
   "cell_type": "code",
   "execution_count": 12,
   "metadata": {},
   "outputs": [],
   "source": [
    "format_instruction = parser.get_format_instructions()\n",
    "\n",
    "prompt = PromptTemplate(\n",
    "    template='''\n",
    "    Answer the user query with a list of values. Here is your formatting instruction.\n",
    "    {format_instruction}\n",
    "\n",
    "    Query: {query}\n",
    "    Answer:''',\n",
    "    input_variables=['query'],\n",
    "    partial_variables={'format_instruction': format_instruction}\n",
    ")\n"
   ]
  },
  {
   "cell_type": "code",
   "execution_count": 14,
   "metadata": {},
   "outputs": [
    {
     "name": "stdout",
     "output_type": "stream",
     "text": [
      "['<think>', 'Okay', \"I need to respond to the user's query by listing the fruits they specified. First\", \"I'll check if there are any specific fruits mentioned in their answer. It seems like they've listed several options like apples\", 'bananas', 'oranges', 'grapes', 'and others. ', \"I should make sure all these items are included without missing any. Let me go through each one again to confirm they're all present in the provided list. Yes\", 'that covers apples', 'bananas', 'oranges', 'grapes', 'strawberries', 'blueberries', 'melons', 'kiwis', 'and more. ', 'Now', \"I'll format them into a comma-separated list as per their instructions. That should provide a clear and concise answer.\", '</think>', 'apples', 'bananas', 'oranges', 'grapes', 'strawberries', 'blueberries', 'melons', 'kiwis']\n"
     ]
    }
   ],
   "source": [
    "chain = prompt | llm | parser\n",
    "ouput = chain.invoke({'query': 'List of fruits'})\n",
    "print(ouput)"
   ]
  },
  {
   "cell_type": "code",
   "execution_count": null,
   "metadata": {},
   "outputs": [],
   "source": [
    "from langchain.output_parsers import DatetimeOutputParser"
   ]
  }
 ],
 "metadata": {
  "kernelspec": {
   "display_name": ".venv",
   "language": "python",
   "name": "python3"
  },
  "language_info": {
   "codemirror_mode": {
    "name": "ipython",
    "version": 3
   },
   "file_extension": ".py",
   "mimetype": "text/x-python",
   "name": "python",
   "nbconvert_exporter": "python",
   "pygments_lexer": "ipython3",
   "version": "3.12.2"
  }
 },
 "nbformat": 4,
 "nbformat_minor": 2
}
